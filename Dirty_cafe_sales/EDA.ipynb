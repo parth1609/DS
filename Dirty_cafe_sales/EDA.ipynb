{
 "cells": [
  {
   "cell_type": "markdown",
   "metadata": {},
   "source": [
    "# 2023"
   ]
  },
  {
   "cell_type": "code",
   "execution_count": 160,
   "metadata": {},
   "outputs": [],
   "source": [
    "import numpy as np\n",
    "import pandas as pd \n",
    "import matplotlib.pyplot as plt\n",
    "import seaborn as sns\n",
    "%matplotlib inline"
   ]
  },
  {
   "cell_type": "code",
   "execution_count": 161,
   "metadata": {},
   "outputs": [
    {
     "data": {
      "text/html": [
       "<div>\n",
       "<style scoped>\n",
       "    .dataframe tbody tr th:only-of-type {\n",
       "        vertical-align: middle;\n",
       "    }\n",
       "\n",
       "    .dataframe tbody tr th {\n",
       "        vertical-align: top;\n",
       "    }\n",
       "\n",
       "    .dataframe thead th {\n",
       "        text-align: right;\n",
       "    }\n",
       "</style>\n",
       "<table border=\"1\" class=\"dataframe\">\n",
       "  <thead>\n",
       "    <tr style=\"text-align: right;\">\n",
       "      <th></th>\n",
       "      <th>Transaction ID</th>\n",
       "      <th>Item</th>\n",
       "      <th>Quantity</th>\n",
       "      <th>Price Per Unit</th>\n",
       "      <th>Total Spent</th>\n",
       "      <th>Payment Method</th>\n",
       "      <th>Location</th>\n",
       "      <th>Transaction Date</th>\n",
       "    </tr>\n",
       "  </thead>\n",
       "  <tbody>\n",
       "    <tr>\n",
       "      <th>0</th>\n",
       "      <td>TXN_1961373</td>\n",
       "      <td>Coffee</td>\n",
       "      <td>2</td>\n",
       "      <td>2.0</td>\n",
       "      <td>4.0</td>\n",
       "      <td>Credit Card</td>\n",
       "      <td>Takeaway</td>\n",
       "      <td>2023-09-08</td>\n",
       "    </tr>\n",
       "    <tr>\n",
       "      <th>1</th>\n",
       "      <td>TXN_4977031</td>\n",
       "      <td>Cake</td>\n",
       "      <td>4</td>\n",
       "      <td>3.0</td>\n",
       "      <td>12.0</td>\n",
       "      <td>Cash</td>\n",
       "      <td>In-store</td>\n",
       "      <td>2023-05-16</td>\n",
       "    </tr>\n",
       "    <tr>\n",
       "      <th>2</th>\n",
       "      <td>TXN_4271903</td>\n",
       "      <td>Cookie</td>\n",
       "      <td>4</td>\n",
       "      <td>1.0</td>\n",
       "      <td>ERROR</td>\n",
       "      <td>Credit Card</td>\n",
       "      <td>In-store</td>\n",
       "      <td>2023-07-19</td>\n",
       "    </tr>\n",
       "    <tr>\n",
       "      <th>3</th>\n",
       "      <td>TXN_7034554</td>\n",
       "      <td>Salad</td>\n",
       "      <td>2</td>\n",
       "      <td>5.0</td>\n",
       "      <td>10.0</td>\n",
       "      <td>UNKNOWN</td>\n",
       "      <td>UNKNOWN</td>\n",
       "      <td>2023-04-27</td>\n",
       "    </tr>\n",
       "    <tr>\n",
       "      <th>4</th>\n",
       "      <td>TXN_3160411</td>\n",
       "      <td>Coffee</td>\n",
       "      <td>2</td>\n",
       "      <td>2.0</td>\n",
       "      <td>4.0</td>\n",
       "      <td>Digital Wallet</td>\n",
       "      <td>In-store</td>\n",
       "      <td>2023-06-11</td>\n",
       "    </tr>\n",
       "  </tbody>\n",
       "</table>\n",
       "</div>"
      ],
      "text/plain": [
       "  Transaction ID    Item Quantity Price Per Unit Total Spent  Payment Method  \\\n",
       "0    TXN_1961373  Coffee        2            2.0         4.0     Credit Card   \n",
       "1    TXN_4977031    Cake        4            3.0        12.0            Cash   \n",
       "2    TXN_4271903  Cookie        4            1.0       ERROR     Credit Card   \n",
       "3    TXN_7034554   Salad        2            5.0        10.0         UNKNOWN   \n",
       "4    TXN_3160411  Coffee        2            2.0         4.0  Digital Wallet   \n",
       "\n",
       "   Location Transaction Date  \n",
       "0  Takeaway       2023-09-08  \n",
       "1  In-store       2023-05-16  \n",
       "2  In-store       2023-07-19  \n",
       "3   UNKNOWN       2023-04-27  \n",
       "4  In-store       2023-06-11  "
      ]
     },
     "execution_count": 161,
     "metadata": {},
     "output_type": "execute_result"
    }
   ],
   "source": [
    "df = pd.read_csv('dirty_cafe_sales.csv')\n",
    "df.head()"
   ]
  },
  {
   "cell_type": "code",
   "execution_count": 162,
   "metadata": {},
   "outputs": [
    {
     "data": {
      "text/plain": [
       "Index(['Transaction ID', 'Item', 'Quantity', 'Price Per Unit', 'Total Spent',\n",
       "       'Payment Method', 'Location', 'Transaction Date'],\n",
       "      dtype='object')"
      ]
     },
     "execution_count": 162,
     "metadata": {},
     "output_type": "execute_result"
    }
   ],
   "source": [
    "df.columns"
   ]
  },
  {
   "cell_type": "code",
   "execution_count": 163,
   "metadata": {},
   "outputs": [
    {
     "name": "stdout",
     "output_type": "stream",
     "text": [
      "<class 'pandas.core.frame.DataFrame'>\n",
      "RangeIndex: 10000 entries, 0 to 9999\n",
      "Data columns (total 8 columns):\n",
      " #   Column            Non-Null Count  Dtype \n",
      "---  ------            --------------  ----- \n",
      " 0   Transaction ID    10000 non-null  object\n",
      " 1   Item              9667 non-null   object\n",
      " 2   Quantity          9862 non-null   object\n",
      " 3   Price Per Unit    9821 non-null   object\n",
      " 4   Total Spent       9827 non-null   object\n",
      " 5   Payment Method    7421 non-null   object\n",
      " 6   Location          6735 non-null   object\n",
      " 7   Transaction Date  9841 non-null   object\n",
      "dtypes: object(8)\n",
      "memory usage: 625.1+ KB\n"
     ]
    }
   ],
   "source": [
    "df.info()"
   ]
  },
  {
   "cell_type": "code",
   "execution_count": 164,
   "metadata": {},
   "outputs": [
    {
     "data": {
      "text/plain": [
       "Transaction ID         0\n",
       "Item                 333\n",
       "Quantity             138\n",
       "Price Per Unit       179\n",
       "Total Spent          173\n",
       "Payment Method      2579\n",
       "Location            3265\n",
       "Transaction Date     159\n",
       "dtype: int64"
      ]
     },
     "execution_count": 164,
     "metadata": {},
     "output_type": "execute_result"
    }
   ],
   "source": [
    "df.isnull().sum()"
   ]
  },
  {
   "cell_type": "code",
   "execution_count": 165,
   "metadata": {},
   "outputs": [
    {
     "data": {
      "text/plain": [
       "array(['Coffee', 'Cake', 'Cookie', 'Salad', 'Smoothie', 'UNKNOWN',\n",
       "       'Sandwich', nan, 'ERROR', 'Juice', 'Tea'], dtype=object)"
      ]
     },
     "execution_count": 165,
     "metadata": {},
     "output_type": "execute_result"
    }
   ],
   "source": [
    "df['Item'].unique()  "
   ]
  },
  {
   "cell_type": "code",
   "execution_count": 166,
   "metadata": {},
   "outputs": [],
   "source": [
    "df['Item']=df['Item'].fillna(\"UNKNOWN\")"
   ]
  },
  {
   "cell_type": "code",
   "execution_count": 167,
   "metadata": {},
   "outputs": [
    {
     "name": "stdout",
     "output_type": "stream",
     "text": [
      "<class 'pandas.core.frame.DataFrame'>\n",
      "RangeIndex: 10000 entries, 0 to 9999\n",
      "Data columns (total 8 columns):\n",
      " #   Column            Non-Null Count  Dtype \n",
      "---  ------            --------------  ----- \n",
      " 0   Transaction ID    10000 non-null  object\n",
      " 1   Item              10000 non-null  object\n",
      " 2   Quantity          9862 non-null   object\n",
      " 3   Price Per Unit    9821 non-null   object\n",
      " 4   Total Spent       9827 non-null   object\n",
      " 5   Payment Method    7421 non-null   object\n",
      " 6   Location          6735 non-null   object\n",
      " 7   Transaction Date  9841 non-null   object\n",
      "dtypes: object(8)\n",
      "memory usage: 625.1+ KB\n"
     ]
    }
   ],
   "source": [
    "df.info()"
   ]
  },
  {
   "cell_type": "code",
   "execution_count": 168,
   "metadata": {},
   "outputs": [],
   "source": [
    "df.drop('Transaction ID',axis=1,inplace=True)"
   ]
  },
  {
   "cell_type": "code",
   "execution_count": 169,
   "metadata": {},
   "outputs": [
    {
     "data": {
      "text/html": [
       "<div>\n",
       "<style scoped>\n",
       "    .dataframe tbody tr th:only-of-type {\n",
       "        vertical-align: middle;\n",
       "    }\n",
       "\n",
       "    .dataframe tbody tr th {\n",
       "        vertical-align: top;\n",
       "    }\n",
       "\n",
       "    .dataframe thead th {\n",
       "        text-align: right;\n",
       "    }\n",
       "</style>\n",
       "<table border=\"1\" class=\"dataframe\">\n",
       "  <thead>\n",
       "    <tr style=\"text-align: right;\">\n",
       "      <th></th>\n",
       "      <th>Item</th>\n",
       "      <th>Quantity</th>\n",
       "      <th>Price Per Unit</th>\n",
       "      <th>Total Spent</th>\n",
       "      <th>Payment Method</th>\n",
       "      <th>Location</th>\n",
       "      <th>Transaction Date</th>\n",
       "    </tr>\n",
       "  </thead>\n",
       "  <tbody>\n",
       "    <tr>\n",
       "      <th>0</th>\n",
       "      <td>Coffee</td>\n",
       "      <td>2</td>\n",
       "      <td>2.0</td>\n",
       "      <td>4.0</td>\n",
       "      <td>Credit Card</td>\n",
       "      <td>Takeaway</td>\n",
       "      <td>2023-09-08</td>\n",
       "    </tr>\n",
       "  </tbody>\n",
       "</table>\n",
       "</div>"
      ],
      "text/plain": [
       "     Item Quantity Price Per Unit Total Spent Payment Method  Location  \\\n",
       "0  Coffee        2            2.0         4.0    Credit Card  Takeaway   \n",
       "\n",
       "  Transaction Date  \n",
       "0       2023-09-08  "
      ]
     },
     "execution_count": 169,
     "metadata": {},
     "output_type": "execute_result"
    }
   ],
   "source": [
    "df.head(1)"
   ]
  },
  {
   "cell_type": "code",
   "execution_count": 170,
   "metadata": {},
   "outputs": [
    {
     "data": {
      "text/plain": [
       "array(['2', '4', '5', '3', '1', 'ERROR', 'UNKNOWN', nan], dtype=object)"
      ]
     },
     "execution_count": 170,
     "metadata": {},
     "output_type": "execute_result"
    }
   ],
   "source": [
    "df['Quantity'].unique()"
   ]
  },
  {
   "cell_type": "code",
   "execution_count": 171,
   "metadata": {},
   "outputs": [
    {
     "name": "stdout",
     "output_type": "stream",
     "text": [
      "<class 'pandas.core.frame.DataFrame'>\n",
      "RangeIndex: 10000 entries, 0 to 9999\n",
      "Data columns (total 7 columns):\n",
      " #   Column            Non-Null Count  Dtype \n",
      "---  ------            --------------  ----- \n",
      " 0   Item              10000 non-null  object\n",
      " 1   Quantity          9862 non-null   object\n",
      " 2   Price Per Unit    9821 non-null   object\n",
      " 3   Total Spent       9827 non-null   object\n",
      " 4   Payment Method    7421 non-null   object\n",
      " 5   Location          6735 non-null   object\n",
      " 6   Transaction Date  9841 non-null   object\n",
      "dtypes: object(7)\n",
      "memory usage: 547.0+ KB\n"
     ]
    }
   ],
   "source": [
    "df.info()"
   ]
  },
  {
   "cell_type": "code",
   "execution_count": 172,
   "metadata": {},
   "outputs": [
    {
     "data": {
      "text/html": [
       "<div>\n",
       "<style scoped>\n",
       "    .dataframe tbody tr th:only-of-type {\n",
       "        vertical-align: middle;\n",
       "    }\n",
       "\n",
       "    .dataframe tbody tr th {\n",
       "        vertical-align: top;\n",
       "    }\n",
       "\n",
       "    .dataframe thead th {\n",
       "        text-align: right;\n",
       "    }\n",
       "</style>\n",
       "<table border=\"1\" class=\"dataframe\">\n",
       "  <thead>\n",
       "    <tr style=\"text-align: right;\">\n",
       "      <th></th>\n",
       "      <th>Item</th>\n",
       "      <th>Quantity</th>\n",
       "      <th>Price Per Unit</th>\n",
       "      <th>Total Spent</th>\n",
       "      <th>Payment Method</th>\n",
       "      <th>Location</th>\n",
       "      <th>Transaction Date</th>\n",
       "    </tr>\n",
       "  </thead>\n",
       "  <tbody>\n",
       "    <tr>\n",
       "      <th>0</th>\n",
       "      <td>Coffee</td>\n",
       "      <td>2</td>\n",
       "      <td>2.0</td>\n",
       "      <td>4.0</td>\n",
       "      <td>Credit Card</td>\n",
       "      <td>Takeaway</td>\n",
       "      <td>2023-09-08</td>\n",
       "    </tr>\n",
       "    <tr>\n",
       "      <th>1</th>\n",
       "      <td>Cake</td>\n",
       "      <td>4</td>\n",
       "      <td>3.0</td>\n",
       "      <td>12.0</td>\n",
       "      <td>Cash</td>\n",
       "      <td>In-store</td>\n",
       "      <td>2023-05-16</td>\n",
       "    </tr>\n",
       "  </tbody>\n",
       "</table>\n",
       "</div>"
      ],
      "text/plain": [
       "     Item Quantity Price Per Unit Total Spent Payment Method  Location  \\\n",
       "0  Coffee        2            2.0         4.0    Credit Card  Takeaway   \n",
       "1    Cake        4            3.0        12.0           Cash  In-store   \n",
       "\n",
       "  Transaction Date  \n",
       "0       2023-09-08  \n",
       "1       2023-05-16  "
      ]
     },
     "execution_count": 172,
     "metadata": {},
     "output_type": "execute_result"
    }
   ],
   "source": [
    "df.head(2)"
   ]
  },
  {
   "cell_type": "code",
   "execution_count": 173,
   "metadata": {},
   "outputs": [],
   "source": [
    "df['Item']=df['Item'].fillna('UNKNOWN')\n",
    "df['Payment Method']=df['Payment Method'].fillna('UNKNOWN')\n",
    "df['Location']=df['Location'].fillna('UNKNOWN')"
   ]
  },
  {
   "cell_type": "code",
   "execution_count": 174,
   "metadata": {},
   "outputs": [],
   "source": [
    "df['Quantity']=pd.to_numeric(df['Quantity'],errors='coerce',downcast='integer')\n",
    "df['Price Per Unit']=pd.to_numeric(df['Price Per Unit'],errors='coerce')"
   ]
  },
  {
   "cell_type": "code",
   "execution_count": 175,
   "metadata": {},
   "outputs": [],
   "source": [
    "df['Quantity']=df['Quantity'].fillna(df['Quantity'].mean()).astype(int)\n",
    "df['Price Per Unit']=df['Price Per Unit'].fillna(df['Quantity'].mean())"
   ]
  },
  {
   "cell_type": "code",
   "execution_count": 176,
   "metadata": {},
   "outputs": [
    {
     "data": {
      "text/plain": [
       "Item                  0\n",
       "Quantity              0\n",
       "Price Per Unit        0\n",
       "Total Spent         173\n",
       "Payment Method        0\n",
       "Location              0\n",
       "Transaction Date    159\n",
       "dtype: int64"
      ]
     },
     "execution_count": 176,
     "metadata": {},
     "output_type": "execute_result"
    }
   ],
   "source": [
    "df.isnull().sum()"
   ]
  },
  {
   "cell_type": "code",
   "execution_count": 177,
   "metadata": {},
   "outputs": [],
   "source": [
    "df['Total Spent']=pd.to_numeric(df['Total Spent'],errors='coerce')"
   ]
  },
  {
   "cell_type": "code",
   "execution_count": 178,
   "metadata": {},
   "outputs": [
    {
     "name": "stdout",
     "output_type": "stream",
     "text": [
      "<class 'pandas.core.frame.DataFrame'>\n",
      "RangeIndex: 10000 entries, 0 to 9999\n",
      "Data columns (total 7 columns):\n",
      " #   Column            Non-Null Count  Dtype  \n",
      "---  ------            --------------  -----  \n",
      " 0   Item              10000 non-null  object \n",
      " 1   Quantity          10000 non-null  int64  \n",
      " 2   Price Per Unit    10000 non-null  float64\n",
      " 3   Total Spent       9498 non-null   float64\n",
      " 4   Payment Method    10000 non-null  object \n",
      " 5   Location          10000 non-null  object \n",
      " 6   Transaction Date  9841 non-null   object \n",
      "dtypes: float64(2), int64(1), object(4)\n",
      "memory usage: 547.0+ KB\n"
     ]
    }
   ],
   "source": [
    "df.info()"
   ]
  },
  {
   "cell_type": "code",
   "execution_count": 179,
   "metadata": {},
   "outputs": [],
   "source": [
    "df['Total Spent']=df['Quantity']*df['Price Per Unit']"
   ]
  },
  {
   "cell_type": "code",
   "execution_count": 180,
   "metadata": {},
   "outputs": [
    {
     "data": {
      "text/plain": [
       "array(['Coffee', 'Cake', 'Cookie', 'Salad', 'Smoothie', 'UNKNOWN',\n",
       "       'Sandwich', 'ERROR', 'Juice', 'Tea'], dtype=object)"
      ]
     },
     "execution_count": 180,
     "metadata": {},
     "output_type": "execute_result"
    }
   ],
   "source": [
    "df['Item'].unique()"
   ]
  },
  {
   "cell_type": "code",
   "execution_count": 181,
   "metadata": {},
   "outputs": [
    {
     "data": {
      "text/html": [
       "<div>\n",
       "<style scoped>\n",
       "    .dataframe tbody tr th:only-of-type {\n",
       "        vertical-align: middle;\n",
       "    }\n",
       "\n",
       "    .dataframe tbody tr th {\n",
       "        vertical-align: top;\n",
       "    }\n",
       "\n",
       "    .dataframe thead th {\n",
       "        text-align: right;\n",
       "    }\n",
       "</style>\n",
       "<table border=\"1\" class=\"dataframe\">\n",
       "  <thead>\n",
       "    <tr style=\"text-align: right;\">\n",
       "      <th></th>\n",
       "      <th>Item</th>\n",
       "      <th>Quantity</th>\n",
       "      <th>Price Per Unit</th>\n",
       "      <th>Total Spent</th>\n",
       "      <th>Payment Method</th>\n",
       "      <th>Location</th>\n",
       "      <th>Transaction Date</th>\n",
       "    </tr>\n",
       "  </thead>\n",
       "  <tbody>\n",
       "    <tr>\n",
       "      <th>0</th>\n",
       "      <td>Coffee</td>\n",
       "      <td>2</td>\n",
       "      <td>2.0000</td>\n",
       "      <td>4.0000</td>\n",
       "      <td>Credit Card</td>\n",
       "      <td>Takeaway</td>\n",
       "      <td>2023-09-08</td>\n",
       "    </tr>\n",
       "    <tr>\n",
       "      <th>1</th>\n",
       "      <td>Cake</td>\n",
       "      <td>4</td>\n",
       "      <td>3.0000</td>\n",
       "      <td>12.0000</td>\n",
       "      <td>Cash</td>\n",
       "      <td>In-store</td>\n",
       "      <td>2023-05-16</td>\n",
       "    </tr>\n",
       "    <tr>\n",
       "      <th>2</th>\n",
       "      <td>Cookie</td>\n",
       "      <td>4</td>\n",
       "      <td>1.0000</td>\n",
       "      <td>4.0000</td>\n",
       "      <td>Credit Card</td>\n",
       "      <td>In-store</td>\n",
       "      <td>2023-07-19</td>\n",
       "    </tr>\n",
       "    <tr>\n",
       "      <th>3</th>\n",
       "      <td>Salad</td>\n",
       "      <td>2</td>\n",
       "      <td>5.0000</td>\n",
       "      <td>10.0000</td>\n",
       "      <td>UNKNOWN</td>\n",
       "      <td>UNKNOWN</td>\n",
       "      <td>2023-04-27</td>\n",
       "    </tr>\n",
       "    <tr>\n",
       "      <th>4</th>\n",
       "      <td>Coffee</td>\n",
       "      <td>2</td>\n",
       "      <td>2.0000</td>\n",
       "      <td>4.0000</td>\n",
       "      <td>Digital Wallet</td>\n",
       "      <td>In-store</td>\n",
       "      <td>2023-06-11</td>\n",
       "    </tr>\n",
       "    <tr>\n",
       "      <th>...</th>\n",
       "      <td>...</td>\n",
       "      <td>...</td>\n",
       "      <td>...</td>\n",
       "      <td>...</td>\n",
       "      <td>...</td>\n",
       "      <td>...</td>\n",
       "      <td>...</td>\n",
       "    </tr>\n",
       "    <tr>\n",
       "      <th>9993</th>\n",
       "      <td>Smoothie</td>\n",
       "      <td>2</td>\n",
       "      <td>4.0000</td>\n",
       "      <td>8.0000</td>\n",
       "      <td>Cash</td>\n",
       "      <td>UNKNOWN</td>\n",
       "      <td>2023-10-20</td>\n",
       "    </tr>\n",
       "    <tr>\n",
       "      <th>9995</th>\n",
       "      <td>Coffee</td>\n",
       "      <td>2</td>\n",
       "      <td>2.0000</td>\n",
       "      <td>4.0000</td>\n",
       "      <td>UNKNOWN</td>\n",
       "      <td>UNKNOWN</td>\n",
       "      <td>2023-08-30</td>\n",
       "    </tr>\n",
       "    <tr>\n",
       "      <th>9997</th>\n",
       "      <td>Coffee</td>\n",
       "      <td>4</td>\n",
       "      <td>2.0000</td>\n",
       "      <td>8.0000</td>\n",
       "      <td>Digital Wallet</td>\n",
       "      <td>UNKNOWN</td>\n",
       "      <td>2023-03-02</td>\n",
       "    </tr>\n",
       "    <tr>\n",
       "      <th>9998</th>\n",
       "      <td>Cookie</td>\n",
       "      <td>3</td>\n",
       "      <td>3.0271</td>\n",
       "      <td>9.0813</td>\n",
       "      <td>Digital Wallet</td>\n",
       "      <td>UNKNOWN</td>\n",
       "      <td>2023-12-02</td>\n",
       "    </tr>\n",
       "    <tr>\n",
       "      <th>9999</th>\n",
       "      <td>Sandwich</td>\n",
       "      <td>3</td>\n",
       "      <td>4.0000</td>\n",
       "      <td>12.0000</td>\n",
       "      <td>Cash</td>\n",
       "      <td>In-store</td>\n",
       "      <td>2023-11-07</td>\n",
       "    </tr>\n",
       "  </tbody>\n",
       "</table>\n",
       "<p>9031 rows × 7 columns</p>\n",
       "</div>"
      ],
      "text/plain": [
       "          Item  Quantity  Price Per Unit  Total Spent  Payment Method  \\\n",
       "0       Coffee         2          2.0000       4.0000     Credit Card   \n",
       "1         Cake         4          3.0000      12.0000            Cash   \n",
       "2       Cookie         4          1.0000       4.0000     Credit Card   \n",
       "3        Salad         2          5.0000      10.0000         UNKNOWN   \n",
       "4       Coffee         2          2.0000       4.0000  Digital Wallet   \n",
       "...        ...       ...             ...          ...             ...   \n",
       "9993  Smoothie         2          4.0000       8.0000            Cash   \n",
       "9995    Coffee         2          2.0000       4.0000         UNKNOWN   \n",
       "9997    Coffee         4          2.0000       8.0000  Digital Wallet   \n",
       "9998    Cookie         3          3.0271       9.0813  Digital Wallet   \n",
       "9999  Sandwich         3          4.0000      12.0000            Cash   \n",
       "\n",
       "      Location Transaction Date  \n",
       "0     Takeaway       2023-09-08  \n",
       "1     In-store       2023-05-16  \n",
       "2     In-store       2023-07-19  \n",
       "3      UNKNOWN       2023-04-27  \n",
       "4     In-store       2023-06-11  \n",
       "...        ...              ...  \n",
       "9993   UNKNOWN       2023-10-20  \n",
       "9995   UNKNOWN       2023-08-30  \n",
       "9997   UNKNOWN       2023-03-02  \n",
       "9998   UNKNOWN       2023-12-02  \n",
       "9999  In-store       2023-11-07  \n",
       "\n",
       "[9031 rows x 7 columns]"
      ]
     },
     "execution_count": 181,
     "metadata": {},
     "output_type": "execute_result"
    }
   ],
   "source": [
    "df=df[df['Item']!='UNKNOWN']\n",
    "df=df[df['Item']!='ERROR']\n",
    "df"
   ]
  },
  {
   "cell_type": "code",
   "execution_count": 182,
   "metadata": {},
   "outputs": [],
   "source": [
    "df['Date']=df['Transaction Date'].str.split('-').str[2]\n",
    "df['Month']=df['Transaction Date'].str.split('-').str[1]\n",
    "df['Year']=df['Transaction Date'].str.split('-').str[0]"
   ]
  },
  {
   "cell_type": "code",
   "execution_count": 183,
   "metadata": {},
   "outputs": [
    {
     "data": {
      "text/html": [
       "<div>\n",
       "<style scoped>\n",
       "    .dataframe tbody tr th:only-of-type {\n",
       "        vertical-align: middle;\n",
       "    }\n",
       "\n",
       "    .dataframe tbody tr th {\n",
       "        vertical-align: top;\n",
       "    }\n",
       "\n",
       "    .dataframe thead th {\n",
       "        text-align: right;\n",
       "    }\n",
       "</style>\n",
       "<table border=\"1\" class=\"dataframe\">\n",
       "  <thead>\n",
       "    <tr style=\"text-align: right;\">\n",
       "      <th></th>\n",
       "      <th>Item</th>\n",
       "      <th>Quantity</th>\n",
       "      <th>Price Per Unit</th>\n",
       "      <th>Total Spent</th>\n",
       "      <th>Payment Method</th>\n",
       "      <th>Location</th>\n",
       "      <th>Transaction Date</th>\n",
       "      <th>Date</th>\n",
       "      <th>Month</th>\n",
       "      <th>Year</th>\n",
       "    </tr>\n",
       "  </thead>\n",
       "  <tbody>\n",
       "    <tr>\n",
       "      <th>0</th>\n",
       "      <td>Coffee</td>\n",
       "      <td>2</td>\n",
       "      <td>2.0000</td>\n",
       "      <td>4.0000</td>\n",
       "      <td>Credit Card</td>\n",
       "      <td>Takeaway</td>\n",
       "      <td>2023-09-08</td>\n",
       "      <td>08</td>\n",
       "      <td>09</td>\n",
       "      <td>2023</td>\n",
       "    </tr>\n",
       "    <tr>\n",
       "      <th>1</th>\n",
       "      <td>Cake</td>\n",
       "      <td>4</td>\n",
       "      <td>3.0000</td>\n",
       "      <td>12.0000</td>\n",
       "      <td>Cash</td>\n",
       "      <td>In-store</td>\n",
       "      <td>2023-05-16</td>\n",
       "      <td>16</td>\n",
       "      <td>05</td>\n",
       "      <td>2023</td>\n",
       "    </tr>\n",
       "    <tr>\n",
       "      <th>2</th>\n",
       "      <td>Cookie</td>\n",
       "      <td>4</td>\n",
       "      <td>1.0000</td>\n",
       "      <td>4.0000</td>\n",
       "      <td>Credit Card</td>\n",
       "      <td>In-store</td>\n",
       "      <td>2023-07-19</td>\n",
       "      <td>19</td>\n",
       "      <td>07</td>\n",
       "      <td>2023</td>\n",
       "    </tr>\n",
       "    <tr>\n",
       "      <th>3</th>\n",
       "      <td>Salad</td>\n",
       "      <td>2</td>\n",
       "      <td>5.0000</td>\n",
       "      <td>10.0000</td>\n",
       "      <td>UNKNOWN</td>\n",
       "      <td>UNKNOWN</td>\n",
       "      <td>2023-04-27</td>\n",
       "      <td>27</td>\n",
       "      <td>04</td>\n",
       "      <td>2023</td>\n",
       "    </tr>\n",
       "    <tr>\n",
       "      <th>4</th>\n",
       "      <td>Coffee</td>\n",
       "      <td>2</td>\n",
       "      <td>2.0000</td>\n",
       "      <td>4.0000</td>\n",
       "      <td>Digital Wallet</td>\n",
       "      <td>In-store</td>\n",
       "      <td>2023-06-11</td>\n",
       "      <td>11</td>\n",
       "      <td>06</td>\n",
       "      <td>2023</td>\n",
       "    </tr>\n",
       "    <tr>\n",
       "      <th>...</th>\n",
       "      <td>...</td>\n",
       "      <td>...</td>\n",
       "      <td>...</td>\n",
       "      <td>...</td>\n",
       "      <td>...</td>\n",
       "      <td>...</td>\n",
       "      <td>...</td>\n",
       "      <td>...</td>\n",
       "      <td>...</td>\n",
       "      <td>...</td>\n",
       "    </tr>\n",
       "    <tr>\n",
       "      <th>9993</th>\n",
       "      <td>Smoothie</td>\n",
       "      <td>2</td>\n",
       "      <td>4.0000</td>\n",
       "      <td>8.0000</td>\n",
       "      <td>Cash</td>\n",
       "      <td>UNKNOWN</td>\n",
       "      <td>2023-10-20</td>\n",
       "      <td>20</td>\n",
       "      <td>10</td>\n",
       "      <td>2023</td>\n",
       "    </tr>\n",
       "    <tr>\n",
       "      <th>9995</th>\n",
       "      <td>Coffee</td>\n",
       "      <td>2</td>\n",
       "      <td>2.0000</td>\n",
       "      <td>4.0000</td>\n",
       "      <td>UNKNOWN</td>\n",
       "      <td>UNKNOWN</td>\n",
       "      <td>2023-08-30</td>\n",
       "      <td>30</td>\n",
       "      <td>08</td>\n",
       "      <td>2023</td>\n",
       "    </tr>\n",
       "    <tr>\n",
       "      <th>9997</th>\n",
       "      <td>Coffee</td>\n",
       "      <td>4</td>\n",
       "      <td>2.0000</td>\n",
       "      <td>8.0000</td>\n",
       "      <td>Digital Wallet</td>\n",
       "      <td>UNKNOWN</td>\n",
       "      <td>2023-03-02</td>\n",
       "      <td>02</td>\n",
       "      <td>03</td>\n",
       "      <td>2023</td>\n",
       "    </tr>\n",
       "    <tr>\n",
       "      <th>9998</th>\n",
       "      <td>Cookie</td>\n",
       "      <td>3</td>\n",
       "      <td>3.0271</td>\n",
       "      <td>9.0813</td>\n",
       "      <td>Digital Wallet</td>\n",
       "      <td>UNKNOWN</td>\n",
       "      <td>2023-12-02</td>\n",
       "      <td>02</td>\n",
       "      <td>12</td>\n",
       "      <td>2023</td>\n",
       "    </tr>\n",
       "    <tr>\n",
       "      <th>9999</th>\n",
       "      <td>Sandwich</td>\n",
       "      <td>3</td>\n",
       "      <td>4.0000</td>\n",
       "      <td>12.0000</td>\n",
       "      <td>Cash</td>\n",
       "      <td>In-store</td>\n",
       "      <td>2023-11-07</td>\n",
       "      <td>07</td>\n",
       "      <td>11</td>\n",
       "      <td>2023</td>\n",
       "    </tr>\n",
       "  </tbody>\n",
       "</table>\n",
       "<p>8901 rows × 10 columns</p>\n",
       "</div>"
      ],
      "text/plain": [
       "          Item  Quantity  Price Per Unit  Total Spent  Payment Method  \\\n",
       "0       Coffee         2          2.0000       4.0000     Credit Card   \n",
       "1         Cake         4          3.0000      12.0000            Cash   \n",
       "2       Cookie         4          1.0000       4.0000     Credit Card   \n",
       "3        Salad         2          5.0000      10.0000         UNKNOWN   \n",
       "4       Coffee         2          2.0000       4.0000  Digital Wallet   \n",
       "...        ...       ...             ...          ...             ...   \n",
       "9993  Smoothie         2          4.0000       8.0000            Cash   \n",
       "9995    Coffee         2          2.0000       4.0000         UNKNOWN   \n",
       "9997    Coffee         4          2.0000       8.0000  Digital Wallet   \n",
       "9998    Cookie         3          3.0271       9.0813  Digital Wallet   \n",
       "9999  Sandwich         3          4.0000      12.0000            Cash   \n",
       "\n",
       "      Location Transaction Date Date Month  Year  \n",
       "0     Takeaway       2023-09-08   08    09  2023  \n",
       "1     In-store       2023-05-16   16    05  2023  \n",
       "2     In-store       2023-07-19   19    07  2023  \n",
       "3      UNKNOWN       2023-04-27   27    04  2023  \n",
       "4     In-store       2023-06-11   11    06  2023  \n",
       "...        ...              ...  ...   ...   ...  \n",
       "9993   UNKNOWN       2023-10-20   20    10  2023  \n",
       "9995   UNKNOWN       2023-08-30   30    08  2023  \n",
       "9997   UNKNOWN       2023-03-02   02    03  2023  \n",
       "9998   UNKNOWN       2023-12-02   02    12  2023  \n",
       "9999  In-store       2023-11-07   07    11  2023  \n",
       "\n",
       "[8901 rows x 10 columns]"
      ]
     },
     "execution_count": 183,
     "metadata": {},
     "output_type": "execute_result"
    }
   ],
   "source": [
    "df = df[df['Year']!='ERROR']\n",
    "df"
   ]
  },
  {
   "cell_type": "markdown",
   "metadata": {},
   "source": [
    "### total Sales through every item"
   ]
  },
  {
   "cell_type": "code",
   "execution_count": 184,
   "metadata": {},
   "outputs": [
    {
     "data": {
      "text/plain": [
       "<Axes: xlabel='Item', ylabel='Total Spent'>"
      ]
     },
     "execution_count": 184,
     "metadata": {},
     "output_type": "execute_result"
    },
    {
     "data": {
      "image/png": "[encoded data removed]",
      "text/plain": [
       "<Figure size 640x480 with 1 Axes>"
      ]
     },
     "metadata": {},
     "output_type": "display_data"
    }
   ],
   "source": [
    "sns.barplot(df, x='Item',y='Total Spent')"
   ]
  },
  {
   "cell_type": "markdown",
   "metadata": {},
   "source": [
    "Most ordered food in Cafe\n",
    "1. Salad\n",
    "2. Smoothie\n",
    "3. Sandwich\n",
    "4. Juice"
   ]
  },
  {
   "cell_type": "code",
   "execution_count": 185,
   "metadata": {},
   "outputs": [
    {
     "name": "stdout",
     "output_type": "stream",
     "text": [
      "<class 'pandas.core.frame.DataFrame'>\n",
      "Index: 8901 entries, 0 to 9999\n",
      "Data columns (total 10 columns):\n",
      " #   Column            Non-Null Count  Dtype  \n",
      "---  ------            --------------  -----  \n",
      " 0   Item              8901 non-null   object \n",
      " 1   Quantity          8901 non-null   int64  \n",
      " 2   Price Per Unit    8901 non-null   float64\n",
      " 3   Total Spent       8901 non-null   float64\n",
      " 4   Payment Method    8901 non-null   object \n",
      " 5   Location          8901 non-null   object \n",
      " 6   Transaction Date  8758 non-null   object \n",
      " 7   Date              8613 non-null   object \n",
      " 8   Month             8613 non-null   object \n",
      " 9   Year              8758 non-null   object \n",
      "dtypes: float64(2), int64(1), object(7)\n",
      "memory usage: 764.9+ KB\n"
     ]
    }
   ],
   "source": [
    "df.info()"
   ]
  },
  {
   "cell_type": "markdown",
   "metadata": {},
   "source": [
    "### How much Item is sale in Cafe"
   ]
  },
  {
   "cell_type": "code",
   "execution_count": 186,
   "metadata": {},
   "outputs": [
    {
     "data": {
      "text/plain": [
       "Item\n",
       "Cake        3407\n",
       "Coffee      3509\n",
       "Cookie      3207\n",
       "Juice       3453\n",
       "Salad       3429\n",
       "Sandwich    3355\n",
       "Smoothie    3315\n",
       "Tea         3278\n",
       "Name: Quantity, dtype: int64"
      ]
     },
     "execution_count": 186,
     "metadata": {},
     "output_type": "execute_result"
    }
   ],
   "source": [
    "order_by_item = df.groupby('Item')['Quantity'].sum()\n",
    "order_by_item"
   ]
  },
  {
   "cell_type": "code",
   "execution_count": 187,
   "metadata": {},
   "outputs": [
    {
     "data": {
      "text/plain": [
       "([<matplotlib.patches.Wedge at 0x1f25b81a330>,\n",
       "  <matplotlib.patches.Wedge at 0x1f26854de20>,\n",
       "  <matplotlib.patches.Wedge at 0x1f25b7ea150>,\n",
       "  <matplotlib.patches.Wedge at 0x1f25b4b87a0>,\n",
       "  <matplotlib.patches.Wedge at 0x1f25b4ba450>,\n",
       "  <matplotlib.patches.Wedge at 0x1f25b690ec0>,\n",
       "  <matplotlib.patches.Wedge at 0x1f25b692870>,\n",
       "  <matplotlib.patches.Wedge at 0x1f25b691580>],\n",
       " [Text(1.0143992302510831, 0.42543413316988343, 'Cake'),\n",
       "  Text(0.39527989756427717, 1.0265251105460473, 'Coffee'),\n",
       "  Text(-0.4437489152234729, 1.0065221806984639, 'Cookie'),\n",
       "  Text(-1.0218245050524228, 0.40727715486431476, 'Juice'),\n",
       "  Text(-1.0031049969741885, -0.4514203861650615, 'Salad'),\n",
       "  Text(-0.38460985441644135, -1.0305703565918067, 'Sandwich'),\n",
       "  Text(0.4487884922452509, -1.0042852628751626, 'Smoothie'),\n",
       "  Text(1.0206812414437125, -0.4101338846826997, 'Tea')],\n",
       " [Text(0.5533086710460453, 0.2320549817290273, '12.64'),\n",
       "  Text(0.21560721685324208, 0.5599227875705712, '13.02'),\n",
       "  Text(-0.242044862849167, 0.5490120985627984, '11.90'),\n",
       "  Text(-0.5573588209376852, 0.2221511753805353, '12.81'),\n",
       "  Text(-0.5471481801677391, -0.24622930154457898, '12.72'),\n",
       "  Text(-0.20978719331805892, -0.5621292854137128, '12.45'),\n",
       "  Text(0.24479372304286412, -0.5477919615682705, '12.30'),\n",
       "  Text(0.5567352226056613, -0.22370939164510892, '12.16')])"
      ]
     },
     "execution_count": 187,
     "metadata": {},
     "output_type": "execute_result"
    },
    {
     "data": {
      "image/png": "[encoded data removed]",
      "text/plain": [
       "<Figure size 640x480 with 1 Axes>"
      ]
     },
     "metadata": {},
     "output_type": "display_data"
    }
   ],
   "source": [
    "fig, ax = plt.subplots()\n",
    "ax.pie(order_by_item.values, labels=order_by_item.index, autopct='%.2f')"
   ]
  },
  {
   "cell_type": "markdown",
   "metadata": {},
   "source": [
    "### By Quantity wise, the sales of all items are near about same."
   ]
  },
  {
   "cell_type": "code",
   "execution_count": 188,
   "metadata": {},
   "outputs": [
    {
     "name": "stderr",
     "output_type": "stream",
     "text": [
      "C:\\Users\\parth\\AppData\\Local\\Temp\\ipykernel_23584\\3432829803.py:1: SettingWithCopyWarning: \n",
      "A value is trying to be set on a copy of a slice from a DataFrame.\n",
      "Try using .loc[row_indexer,col_indexer] = value instead\n",
      "\n",
      "See the caveats in the documentation: https://pandas.pydata.org/pandas-docs/stable/user_guide/indexing.html#returning-a-view-versus-a-copy\n",
      "  df['Transaction Date'] = pd.to_datetime(df['Transaction Date'],errors='coerce')\n"
     ]
    }
   ],
   "source": [
    "df['Transaction Date'] = pd.to_datetime(df['Transaction Date'],errors='coerce')"
   ]
  },
  {
   "cell_type": "code",
   "execution_count": 189,
   "metadata": {},
   "outputs": [
    {
     "name": "stderr",
     "output_type": "stream",
     "text": [
      "C:\\Users\\parth\\AppData\\Local\\Temp\\ipykernel_23584\\1013572510.py:1: SettingWithCopyWarning: \n",
      "A value is trying to be set on a copy of a slice from a DataFrame.\n",
      "Try using .loc[row_indexer,col_indexer] = value instead\n",
      "\n",
      "See the caveats in the documentation: https://pandas.pydata.org/pandas-docs/stable/user_guide/indexing.html#returning-a-view-versus-a-copy\n",
      "  df['Month_name']=df['Transaction Date'].dt.month_name()\n",
      "C:\\Users\\parth\\AppData\\Local\\Temp\\ipykernel_23584\\1013572510.py:2: SettingWithCopyWarning: \n",
      "A value is trying to be set on a copy of a slice from a DataFrame.\n",
      "Try using .loc[row_indexer,col_indexer] = value instead\n",
      "\n",
      "See the caveats in the documentation: https://pandas.pydata.org/pandas-docs/stable/user_guide/indexing.html#returning-a-view-versus-a-copy\n",
      "  df['day_name']=df['Transaction Date'].dt.day_name()\n"
     ]
    }
   ],
   "source": [
    "df['Month_name']=df['Transaction Date'].dt.month_name()\n",
    "df['day_name']=df['Transaction Date'].dt.day_name()"
   ]
  },
  {
   "cell_type": "code",
   "execution_count": 190,
   "metadata": {},
   "outputs": [
    {
     "name": "stderr",
     "output_type": "stream",
     "text": [
      "C:\\Users\\parth\\AppData\\Local\\Temp\\ipykernel_23584\\2331430621.py:1: SettingWithCopyWarning: \n",
      "A value is trying to be set on a copy of a slice from a DataFrame\n",
      "\n",
      "See the caveats in the documentation: https://pandas.pydata.org/pandas-docs/stable/user_guide/indexing.html#returning-a-view-versus-a-copy\n",
      "  df.dropna(subset=['Transaction Date'],inplace=True)\n"
     ]
    }
   ],
   "source": [
    "df.dropna(subset=['Transaction Date'],inplace=True)"
   ]
  },
  {
   "cell_type": "code",
   "execution_count": 191,
   "metadata": {},
   "outputs": [
    {
     "data": {
      "text/plain": [
       "Item                0\n",
       "Quantity            0\n",
       "Price Per Unit      0\n",
       "Total Spent         0\n",
       "Payment Method      0\n",
       "Location            0\n",
       "Transaction Date    0\n",
       "Date                0\n",
       "Month               0\n",
       "Year                0\n",
       "Month_name          0\n",
       "day_name            0\n",
       "dtype: int64"
      ]
     },
     "execution_count": 191,
     "metadata": {},
     "output_type": "execute_result"
    }
   ],
   "source": [
    "df.isnull().sum()"
   ]
  },
  {
   "cell_type": "code",
   "execution_count": 192,
   "metadata": {},
   "outputs": [
    {
     "data": {
      "text/plain": [
       "(8613, 12)"
      ]
     },
     "execution_count": 192,
     "metadata": {},
     "output_type": "execute_result"
    }
   ],
   "source": [
    "df.shape"
   ]
  },
  {
   "cell_type": "code",
   "execution_count": 193,
   "metadata": {},
   "outputs": [
    {
     "name": "stdout",
     "output_type": "stream",
     "text": [
      "<class 'pandas.core.frame.DataFrame'>\n",
      "Index: 8613 entries, 0 to 9999\n",
      "Data columns (total 12 columns):\n",
      " #   Column            Non-Null Count  Dtype         \n",
      "---  ------            --------------  -----         \n",
      " 0   Item              8613 non-null   object        \n",
      " 1   Quantity          8613 non-null   int64         \n",
      " 2   Price Per Unit    8613 non-null   float64       \n",
      " 3   Total Spent       8613 non-null   float64       \n",
      " 4   Payment Method    8613 non-null   object        \n",
      " 5   Location          8613 non-null   object        \n",
      " 6   Transaction Date  8613 non-null   datetime64[ns]\n",
      " 7   Date              8613 non-null   object        \n",
      " 8   Month             8613 non-null   object        \n",
      " 9   Year              8613 non-null   object        \n",
      " 10  Month_name        8613 non-null   object        \n",
      " 11  day_name          8613 non-null   object        \n",
      "dtypes: datetime64[ns](1), float64(2), int64(1), object(8)\n",
      "memory usage: 874.8+ KB\n"
     ]
    }
   ],
   "source": [
    "df.info()"
   ]
  },
  {
   "cell_type": "code",
   "execution_count": 194,
   "metadata": {},
   "outputs": [
    {
     "data": {
      "text/plain": [
       "Month_name\n",
       "April        6468.8306\n",
       "August       6341.6165\n",
       "December     6466.3482\n",
       "February     5962.1558\n",
       "January      6688.6856\n",
       "July         6207.9119\n",
       "June         6683.1978\n",
       "March        6519.9417\n",
       "May          6252.1707\n",
       "November     6487.0894\n",
       "October      6784.5379\n",
       "September    6225.9539\n",
       "Name: Total Spent, dtype: float64"
      ]
     },
     "execution_count": 194,
     "metadata": {},
     "output_type": "execute_result"
    }
   ],
   "source": [
    "\n",
    "revenue_every_month = df.groupby(df['Month_name'])['Total Spent'].sum()\n",
    "revenue_every_month"
   ]
  },
  {
   "cell_type": "code",
   "execution_count": 195,
   "metadata": {},
   "outputs": [
    {
     "data": {
      "text/plain": [
       "<Axes: xlabel='Month_name', ylabel='Total Spent'>"
      ]
     },
     "execution_count": 195,
     "metadata": {},
     "output_type": "execute_result"
    },
    {
     "data": {
      "image/png": "[encoded data removed]",
      "text/plain": [
       "<Figure size 640x480 with 1 Axes>"
      ]
     },
     "metadata": {},
     "output_type": "display_data"
    }
   ],
   "source": [
    "sns.barplot(df,x=df['Month_name'],y=df['Total Spent'])"
   ]
  },
  {
   "cell_type": "code",
   "execution_count": null,
   "metadata": {},
   "outputs": [],
   "source": []
  },
  {
   "cell_type": "code",
   "execution_count": 196,
   "metadata": {},
   "outputs": [],
   "source": [
    "from ydata_profiling import ProfileReport\n",
    "import pandas_profiling"
   ]
  },
  {
   "cell_type": "code",
   "execution_count": 197,
   "metadata": {},
   "outputs": [
    {
     "name": "stderr",
     "output_type": "stream",
     "text": [
      "c:\\Users\\parth\\OneDrive\\Desktop\\one\\pydata\\_env\\Lib\\site-packages\\ydata_profiling\\utils\\dataframe.py:137: SettingWithCopyWarning: \n",
      "A value is trying to be set on a copy of a slice from a DataFrame\n",
      "\n",
      "See the caveats in the documentation: https://pandas.pydata.org/pandas-docs/stable/user_guide/indexing.html#returning-a-view-versus-a-copy\n",
      "  df.rename(columns={\"index\": \"df_index\"}, inplace=True)\n"
     ]
    },
    {
     "data": {
      "application/vnd.jupyter.widget-view+json": {
       "model_id": "ab32fba4bd0f4825a63bac3d1d4abf55",
       "version_major": 2,
       "version_minor": 0
      },
      "text/plain": [
       "Summarize dataset:   0%|          | 0/5 [00:00<?, ?it/s]"
      ]
     },
     "metadata": {},
     "output_type": "display_data"
    },
    {
     "data": {
      "application/vnd.jupyter.widget-view+json": {
       "model_id": "d7254351e5cf476b80ef9a2c1aec117a",
       "version_major": 2,
       "version_minor": 0
      },
      "text/plain": [
       "Generate report structure:   0%|          | 0/1 [00:00<?, ?it/s]"
      ]
     },
     "metadata": {},
     "output_type": "display_data"
    },
    {
     "data": {
      "application/vnd.jupyter.widget-view+json": {
       "model_id": "6f928838a5ad4e6d8d6ca7b080144a69",
       "version_major": 2,
       "version_minor": 0
      },
      "text/plain": [
       "Render HTML:   0%|          | 0/1 [00:00<?, ?it/s]"
      ]
     },
     "metadata": {},
     "output_type": "display_data"
    },
    {
     "name": "stderr",
     "output_type": "stream",
     "text": [
      "c:\\Users\\parth\\OneDrive\\Desktop\\one\\pydata\\_env\\Lib\\site-packages\\ydata_profiling\\profile_report.py:379: UserWarning: Extension .pdf not supported. For now we assume .html was intended. To remove this warning, please use .html or .json.\n",
      "  warnings.warn(\n"
     ]
    },
    {
     "data": {
      "application/vnd.jupyter.widget-view+json": {
       "model_id": "574defe33b57442ead78925a017a1a80",
       "version_major": 2,
       "version_minor": 0
      },
      "text/plain": [
       "Export report to file:   0%|          | 0/1 [00:00<?, ?it/s]"
      ]
     },
     "metadata": {},
     "output_type": "display_data"
    }
   ],
   "source": [
    "profile = ProfileReport(df, title=\"Report\",explorative=True)\n",
    "profile.to_file('output.pdf')"
   ]
  },
  {
   "cell_type": "code",
   "execution_count": null,
   "metadata": {},
   "outputs": [],
   "source": [
    "\n",
    "\n"
   ]
  },
  {
   "cell_type": "code",
   "execution_count": 198,
   "metadata": {},
   "outputs": [
    {
     "data": {
      "text/html": [
       "<div>\n",
       "<style scoped>\n",
       "    .dataframe tbody tr th:only-of-type {\n",
       "        vertical-align: middle;\n",
       "    }\n",
       "\n",
       "    .dataframe tbody tr th {\n",
       "        vertical-align: top;\n",
       "    }\n",
       "\n",
       "    .dataframe thead th {\n",
       "        text-align: right;\n",
       "    }\n",
       "</style>\n",
       "<table border=\"1\" class=\"dataframe\">\n",
       "  <thead>\n",
       "    <tr style=\"text-align: right;\">\n",
       "      <th></th>\n",
       "      <th>Item</th>\n",
       "      <th>Quantity</th>\n",
       "      <th>Price Per Unit</th>\n",
       "      <th>Total Spent</th>\n",
       "      <th>Payment Method</th>\n",
       "      <th>Location</th>\n",
       "      <th>Transaction Date</th>\n",
       "      <th>Date</th>\n",
       "      <th>Month</th>\n",
       "      <th>Year</th>\n",
       "      <th>Month_name</th>\n",
       "      <th>day_name</th>\n",
       "    </tr>\n",
       "  </thead>\n",
       "  <tbody>\n",
       "    <tr>\n",
       "      <th>0</th>\n",
       "      <td>Coffee</td>\n",
       "      <td>2</td>\n",
       "      <td>2.0000</td>\n",
       "      <td>4.0000</td>\n",
       "      <td>Credit Card</td>\n",
       "      <td>Takeaway</td>\n",
       "      <td>2023-09-08</td>\n",
       "      <td>08</td>\n",
       "      <td>09</td>\n",
       "      <td>2023</td>\n",
       "      <td>September</td>\n",
       "      <td>Friday</td>\n",
       "    </tr>\n",
       "    <tr>\n",
       "      <th>1</th>\n",
       "      <td>Cake</td>\n",
       "      <td>4</td>\n",
       "      <td>3.0000</td>\n",
       "      <td>12.0000</td>\n",
       "      <td>Cash</td>\n",
       "      <td>In-store</td>\n",
       "      <td>2023-05-16</td>\n",
       "      <td>16</td>\n",
       "      <td>05</td>\n",
       "      <td>2023</td>\n",
       "      <td>May</td>\n",
       "      <td>Tuesday</td>\n",
       "    </tr>\n",
       "    <tr>\n",
       "      <th>2</th>\n",
       "      <td>Cookie</td>\n",
       "      <td>4</td>\n",
       "      <td>1.0000</td>\n",
       "      <td>4.0000</td>\n",
       "      <td>Credit Card</td>\n",
       "      <td>In-store</td>\n",
       "      <td>2023-07-19</td>\n",
       "      <td>19</td>\n",
       "      <td>07</td>\n",
       "      <td>2023</td>\n",
       "      <td>July</td>\n",
       "      <td>Wednesday</td>\n",
       "    </tr>\n",
       "    <tr>\n",
       "      <th>3</th>\n",
       "      <td>Salad</td>\n",
       "      <td>2</td>\n",
       "      <td>5.0000</td>\n",
       "      <td>10.0000</td>\n",
       "      <td>UNKNOWN</td>\n",
       "      <td>UNKNOWN</td>\n",
       "      <td>2023-04-27</td>\n",
       "      <td>27</td>\n",
       "      <td>04</td>\n",
       "      <td>2023</td>\n",
       "      <td>April</td>\n",
       "      <td>Thursday</td>\n",
       "    </tr>\n",
       "    <tr>\n",
       "      <th>4</th>\n",
       "      <td>Coffee</td>\n",
       "      <td>2</td>\n",
       "      <td>2.0000</td>\n",
       "      <td>4.0000</td>\n",
       "      <td>Digital Wallet</td>\n",
       "      <td>In-store</td>\n",
       "      <td>2023-06-11</td>\n",
       "      <td>11</td>\n",
       "      <td>06</td>\n",
       "      <td>2023</td>\n",
       "      <td>June</td>\n",
       "      <td>Sunday</td>\n",
       "    </tr>\n",
       "    <tr>\n",
       "      <th>...</th>\n",
       "      <td>...</td>\n",
       "      <td>...</td>\n",
       "      <td>...</td>\n",
       "      <td>...</td>\n",
       "      <td>...</td>\n",
       "      <td>...</td>\n",
       "      <td>...</td>\n",
       "      <td>...</td>\n",
       "      <td>...</td>\n",
       "      <td>...</td>\n",
       "      <td>...</td>\n",
       "      <td>...</td>\n",
       "    </tr>\n",
       "    <tr>\n",
       "      <th>9993</th>\n",
       "      <td>Smoothie</td>\n",
       "      <td>2</td>\n",
       "      <td>4.0000</td>\n",
       "      <td>8.0000</td>\n",
       "      <td>Cash</td>\n",
       "      <td>UNKNOWN</td>\n",
       "      <td>2023-10-20</td>\n",
       "      <td>20</td>\n",
       "      <td>10</td>\n",
       "      <td>2023</td>\n",
       "      <td>October</td>\n",
       "      <td>Friday</td>\n",
       "    </tr>\n",
       "    <tr>\n",
       "      <th>9995</th>\n",
       "      <td>Coffee</td>\n",
       "      <td>2</td>\n",
       "      <td>2.0000</td>\n",
       "      <td>4.0000</td>\n",
       "      <td>UNKNOWN</td>\n",
       "      <td>UNKNOWN</td>\n",
       "      <td>2023-08-30</td>\n",
       "      <td>30</td>\n",
       "      <td>08</td>\n",
       "      <td>2023</td>\n",
       "      <td>August</td>\n",
       "      <td>Wednesday</td>\n",
       "    </tr>\n",
       "    <tr>\n",
       "      <th>9997</th>\n",
       "      <td>Coffee</td>\n",
       "      <td>4</td>\n",
       "      <td>2.0000</td>\n",
       "      <td>8.0000</td>\n",
       "      <td>Digital Wallet</td>\n",
       "      <td>UNKNOWN</td>\n",
       "      <td>2023-03-02</td>\n",
       "      <td>02</td>\n",
       "      <td>03</td>\n",
       "      <td>2023</td>\n",
       "      <td>March</td>\n",
       "      <td>Thursday</td>\n",
       "    </tr>\n",
       "    <tr>\n",
       "      <th>9998</th>\n",
       "      <td>Cookie</td>\n",
       "      <td>3</td>\n",
       "      <td>3.0271</td>\n",
       "      <td>9.0813</td>\n",
       "      <td>Digital Wallet</td>\n",
       "      <td>UNKNOWN</td>\n",
       "      <td>2023-12-02</td>\n",
       "      <td>02</td>\n",
       "      <td>12</td>\n",
       "      <td>2023</td>\n",
       "      <td>December</td>\n",
       "      <td>Saturday</td>\n",
       "    </tr>\n",
       "    <tr>\n",
       "      <th>9999</th>\n",
       "      <td>Sandwich</td>\n",
       "      <td>3</td>\n",
       "      <td>4.0000</td>\n",
       "      <td>12.0000</td>\n",
       "      <td>Cash</td>\n",
       "      <td>In-store</td>\n",
       "      <td>2023-11-07</td>\n",
       "      <td>07</td>\n",
       "      <td>11</td>\n",
       "      <td>2023</td>\n",
       "      <td>November</td>\n",
       "      <td>Tuesday</td>\n",
       "    </tr>\n",
       "  </tbody>\n",
       "</table>\n",
       "<p>8613 rows × 12 columns</p>\n",
       "</div>"
      ],
      "text/plain": [
       "          Item  Quantity  Price Per Unit  Total Spent  Payment Method  \\\n",
       "0       Coffee         2          2.0000       4.0000     Credit Card   \n",
       "1         Cake         4          3.0000      12.0000            Cash   \n",
       "2       Cookie         4          1.0000       4.0000     Credit Card   \n",
       "3        Salad         2          5.0000      10.0000         UNKNOWN   \n",
       "4       Coffee         2          2.0000       4.0000  Digital Wallet   \n",
       "...        ...       ...             ...          ...             ...   \n",
       "9993  Smoothie         2          4.0000       8.0000            Cash   \n",
       "9995    Coffee         2          2.0000       4.0000         UNKNOWN   \n",
       "9997    Coffee         4          2.0000       8.0000  Digital Wallet   \n",
       "9998    Cookie         3          3.0271       9.0813  Digital Wallet   \n",
       "9999  Sandwich         3          4.0000      12.0000            Cash   \n",
       "\n",
       "      Location Transaction Date Date Month  Year Month_name   day_name  \n",
       "0     Takeaway       2023-09-08   08    09  2023  September     Friday  \n",
       "1     In-store       2023-05-16   16    05  2023        May    Tuesday  \n",
       "2     In-store       2023-07-19   19    07  2023       July  Wednesday  \n",
       "3      UNKNOWN       2023-04-27   27    04  2023      April   Thursday  \n",
       "4     In-store       2023-06-11   11    06  2023       June     Sunday  \n",
       "...        ...              ...  ...   ...   ...        ...        ...  \n",
       "9993   UNKNOWN       2023-10-20   20    10  2023    October     Friday  \n",
       "9995   UNKNOWN       2023-08-30   30    08  2023     August  Wednesday  \n",
       "9997   UNKNOWN       2023-03-02   02    03  2023      March   Thursday  \n",
       "9998   UNKNOWN       2023-12-02   02    12  2023   December   Saturday  \n",
       "9999  In-store       2023-11-07   07    11  2023   November    Tuesday  \n",
       "\n",
       "[8613 rows x 12 columns]"
      ]
     },
     "execution_count": 198,
     "metadata": {},
     "output_type": "execute_result"
    }
   ],
   "source": [
    "df"
   ]
  },
  {
   "cell_type": "code",
   "execution_count": 199,
   "metadata": {},
   "outputs": [
    {
     "data": {
      "text/plain": [
       "array(['Coffee', 'Cake', 'Cookie', 'Salad', 'Smoothie', 'Sandwich',\n",
       "       'Juice', 'Tea'], dtype=object)"
      ]
     },
     "execution_count": 199,
     "metadata": {},
     "output_type": "execute_result"
    }
   ],
   "source": [
    "df['Item'].unique()"
   ]
  },
  {
   "cell_type": "code",
   "execution_count": 200,
   "metadata": {},
   "outputs": [],
   "source": [
    "from sklearn.preprocessing import LabelEncoder\n",
    "le = LabelEncoder()"
   ]
  },
  {
   "cell_type": "code",
   "execution_count": 201,
   "metadata": {},
   "outputs": [
    {
     "name": "stderr",
     "output_type": "stream",
     "text": [
      "C:\\Users\\parth\\AppData\\Local\\Temp\\ipykernel_23584\\3554150313.py:3: SettingWithCopyWarning: \n",
      "A value is trying to be set on a copy of a slice from a DataFrame.\n",
      "Try using .loc[row_indexer,col_indexer] = value instead\n",
      "\n",
      "See the caveats in the documentation: https://pandas.pydata.org/pandas-docs/stable/user_guide/indexing.html#returning-a-view-versus-a-copy\n",
      "  df[column] = le.fit_transform(df[column])\n",
      "C:\\Users\\parth\\AppData\\Local\\Temp\\ipykernel_23584\\3554150313.py:3: SettingWithCopyWarning: \n",
      "A value is trying to be set on a copy of a slice from a DataFrame.\n",
      "Try using .loc[row_indexer,col_indexer] = value instead\n",
      "\n",
      "See the caveats in the documentation: https://pandas.pydata.org/pandas-docs/stable/user_guide/indexing.html#returning-a-view-versus-a-copy\n",
      "  df[column] = le.fit_transform(df[column])\n",
      "C:\\Users\\parth\\AppData\\Local\\Temp\\ipykernel_23584\\3554150313.py:3: SettingWithCopyWarning: \n",
      "A value is trying to be set on a copy of a slice from a DataFrame.\n",
      "Try using .loc[row_indexer,col_indexer] = value instead\n",
      "\n",
      "See the caveats in the documentation: https://pandas.pydata.org/pandas-docs/stable/user_guide/indexing.html#returning-a-view-versus-a-copy\n",
      "  df[column] = le.fit_transform(df[column])\n",
      "C:\\Users\\parth\\AppData\\Local\\Temp\\ipykernel_23584\\3554150313.py:3: SettingWithCopyWarning: \n",
      "A value is trying to be set on a copy of a slice from a DataFrame.\n",
      "Try using .loc[row_indexer,col_indexer] = value instead\n",
      "\n",
      "See the caveats in the documentation: https://pandas.pydata.org/pandas-docs/stable/user_guide/indexing.html#returning-a-view-versus-a-copy\n",
      "  df[column] = le.fit_transform(df[column])\n",
      "C:\\Users\\parth\\AppData\\Local\\Temp\\ipykernel_23584\\3554150313.py:3: SettingWithCopyWarning: \n",
      "A value is trying to be set on a copy of a slice from a DataFrame.\n",
      "Try using .loc[row_indexer,col_indexer] = value instead\n",
      "\n",
      "See the caveats in the documentation: https://pandas.pydata.org/pandas-docs/stable/user_guide/indexing.html#returning-a-view-versus-a-copy\n",
      "  df[column] = le.fit_transform(df[column])\n"
     ]
    }
   ],
   "source": [
    "columns_to_encode = ['Item', 'Payment Method', 'Location', 'Month_name', 'day_name']\n",
    "for column in columns_to_encode:\n",
    "    df[column] = le.fit_transform(df[column])"
   ]
  },
  {
   "cell_type": "code",
   "execution_count": 202,
   "metadata": {},
   "outputs": [
    {
     "name": "stderr",
     "output_type": "stream",
     "text": [
      "C:\\Users\\parth\\AppData\\Local\\Temp\\ipykernel_23584\\833461682.py:1: SettingWithCopyWarning: \n",
      "A value is trying to be set on a copy of a slice from a DataFrame\n",
      "\n",
      "See the caveats in the documentation: https://pandas.pydata.org/pandas-docs/stable/user_guide/indexing.html#returning-a-view-versus-a-copy\n",
      "  df.drop('Transaction Date', axis=1, inplace=True)\n"
     ]
    }
   ],
   "source": [
    "df.drop('Transaction Date', axis=1, inplace=True)"
   ]
  },
  {
   "cell_type": "code",
   "execution_count": 203,
   "metadata": {},
   "outputs": [
    {
     "data": {
      "text/html": [
       "<div>\n",
       "<style scoped>\n",
       "    .dataframe tbody tr th:only-of-type {\n",
       "        vertical-align: middle;\n",
       "    }\n",
       "\n",
       "    .dataframe tbody tr th {\n",
       "        vertical-align: top;\n",
       "    }\n",
       "\n",
       "    .dataframe thead th {\n",
       "        text-align: right;\n",
       "    }\n",
       "</style>\n",
       "<table border=\"1\" class=\"dataframe\">\n",
       "  <thead>\n",
       "    <tr style=\"text-align: right;\">\n",
       "      <th></th>\n",
       "      <th>Item</th>\n",
       "      <th>Quantity</th>\n",
       "      <th>Price Per Unit</th>\n",
       "      <th>Total Spent</th>\n",
       "      <th>Payment Method</th>\n",
       "      <th>Location</th>\n",
       "      <th>Date</th>\n",
       "      <th>Month</th>\n",
       "      <th>Year</th>\n",
       "      <th>Month_name</th>\n",
       "      <th>day_name</th>\n",
       "    </tr>\n",
       "  </thead>\n",
       "  <tbody>\n",
       "    <tr>\n",
       "      <th>0</th>\n",
       "      <td>1</td>\n",
       "      <td>2</td>\n",
       "      <td>2.0</td>\n",
       "      <td>4.0</td>\n",
       "      <td>1</td>\n",
       "      <td>2</td>\n",
       "      <td>08</td>\n",
       "      <td>09</td>\n",
       "      <td>2023</td>\n",
       "      <td>11</td>\n",
       "      <td>0</td>\n",
       "    </tr>\n",
       "    <tr>\n",
       "      <th>1</th>\n",
       "      <td>0</td>\n",
       "      <td>4</td>\n",
       "      <td>3.0</td>\n",
       "      <td>12.0</td>\n",
       "      <td>0</td>\n",
       "      <td>1</td>\n",
       "      <td>16</td>\n",
       "      <td>05</td>\n",
       "      <td>2023</td>\n",
       "      <td>8</td>\n",
       "      <td>5</td>\n",
       "    </tr>\n",
       "    <tr>\n",
       "      <th>2</th>\n",
       "      <td>2</td>\n",
       "      <td>4</td>\n",
       "      <td>1.0</td>\n",
       "      <td>4.0</td>\n",
       "      <td>1</td>\n",
       "      <td>1</td>\n",
       "      <td>19</td>\n",
       "      <td>07</td>\n",
       "      <td>2023</td>\n",
       "      <td>5</td>\n",
       "      <td>6</td>\n",
       "    </tr>\n",
       "    <tr>\n",
       "      <th>3</th>\n",
       "      <td>4</td>\n",
       "      <td>2</td>\n",
       "      <td>5.0</td>\n",
       "      <td>10.0</td>\n",
       "      <td>4</td>\n",
       "      <td>3</td>\n",
       "      <td>27</td>\n",
       "      <td>04</td>\n",
       "      <td>2023</td>\n",
       "      <td>0</td>\n",
       "      <td>4</td>\n",
       "    </tr>\n",
       "    <tr>\n",
       "      <th>4</th>\n",
       "      <td>1</td>\n",
       "      <td>2</td>\n",
       "      <td>2.0</td>\n",
       "      <td>4.0</td>\n",
       "      <td>2</td>\n",
       "      <td>1</td>\n",
       "      <td>11</td>\n",
       "      <td>06</td>\n",
       "      <td>2023</td>\n",
       "      <td>6</td>\n",
       "      <td>3</td>\n",
       "    </tr>\n",
       "  </tbody>\n",
       "</table>\n",
       "</div>"
      ],
      "text/plain": [
       "   Item  Quantity  Price Per Unit  Total Spent  Payment Method  Location Date  \\\n",
       "0     1         2             2.0          4.0               1         2   08   \n",
       "1     0         4             3.0         12.0               0         1   16   \n",
       "2     2         4             1.0          4.0               1         1   19   \n",
       "3     4         2             5.0         10.0               4         3   27   \n",
       "4     1         2             2.0          4.0               2         1   11   \n",
       "\n",
       "  Month  Year  Month_name  day_name  \n",
       "0    09  2023          11         0  \n",
       "1    05  2023           8         5  \n",
       "2    07  2023           5         6  \n",
       "3    04  2023           0         4  \n",
       "4    06  2023           6         3  "
      ]
     },
     "execution_count": 203,
     "metadata": {},
     "output_type": "execute_result"
    }
   ],
   "source": [
    "df.head()"
   ]
  },
  {
   "cell_type": "code",
   "execution_count": 204,
   "metadata": {},
   "outputs": [
    {
     "data": {
      "text/plain": [
       "array(['2023'], dtype=object)"
      ]
     },
     "execution_count": 204,
     "metadata": {},
     "output_type": "execute_result"
    }
   ],
   "source": [
    "df['Year'].unique()"
   ]
  },
  {
   "cell_type": "code",
   "execution_count": 205,
   "metadata": {},
   "outputs": [
    {
     "name": "stderr",
     "output_type": "stream",
     "text": [
      "C:\\Users\\parth\\AppData\\Local\\Temp\\ipykernel_23584\\3001728433.py:1: SettingWithCopyWarning: \n",
      "A value is trying to be set on a copy of a slice from a DataFrame\n",
      "\n",
      "See the caveats in the documentation: https://pandas.pydata.org/pandas-docs/stable/user_guide/indexing.html#returning-a-view-versus-a-copy\n",
      "  df.drop('Year',axis=1,inplace=True)\n"
     ]
    }
   ],
   "source": [
    "df.drop('Year',axis=1,inplace=True)"
   ]
  },
  {
   "cell_type": "code",
   "execution_count": 206,
   "metadata": {},
   "outputs": [
    {
     "data": {
      "text/html": [
       "<div>\n",
       "<style scoped>\n",
       "    .dataframe tbody tr th:only-of-type {\n",
       "        vertical-align: middle;\n",
       "    }\n",
       "\n",
       "    .dataframe tbody tr th {\n",
       "        vertical-align: top;\n",
       "    }\n",
       "\n",
       "    .dataframe thead th {\n",
       "        text-align: right;\n",
       "    }\n",
       "</style>\n",
       "<table border=\"1\" class=\"dataframe\">\n",
       "  <thead>\n",
       "    <tr style=\"text-align: right;\">\n",
       "      <th></th>\n",
       "      <th>Item</th>\n",
       "      <th>Quantity</th>\n",
       "      <th>Price Per Unit</th>\n",
       "      <th>Total Spent</th>\n",
       "      <th>Payment Method</th>\n",
       "      <th>Location</th>\n",
       "      <th>Date</th>\n",
       "      <th>Month</th>\n",
       "      <th>Month_name</th>\n",
       "      <th>day_name</th>\n",
       "    </tr>\n",
       "  </thead>\n",
       "  <tbody>\n",
       "    <tr>\n",
       "      <th>0</th>\n",
       "      <td>1</td>\n",
       "      <td>2</td>\n",
       "      <td>2.0</td>\n",
       "      <td>4.0</td>\n",
       "      <td>1</td>\n",
       "      <td>2</td>\n",
       "      <td>08</td>\n",
       "      <td>09</td>\n",
       "      <td>11</td>\n",
       "      <td>0</td>\n",
       "    </tr>\n",
       "    <tr>\n",
       "      <th>1</th>\n",
       "      <td>0</td>\n",
       "      <td>4</td>\n",
       "      <td>3.0</td>\n",
       "      <td>12.0</td>\n",
       "      <td>0</td>\n",
       "      <td>1</td>\n",
       "      <td>16</td>\n",
       "      <td>05</td>\n",
       "      <td>8</td>\n",
       "      <td>5</td>\n",
       "    </tr>\n",
       "    <tr>\n",
       "      <th>2</th>\n",
       "      <td>2</td>\n",
       "      <td>4</td>\n",
       "      <td>1.0</td>\n",
       "      <td>4.0</td>\n",
       "      <td>1</td>\n",
       "      <td>1</td>\n",
       "      <td>19</td>\n",
       "      <td>07</td>\n",
       "      <td>5</td>\n",
       "      <td>6</td>\n",
       "    </tr>\n",
       "    <tr>\n",
       "      <th>3</th>\n",
       "      <td>4</td>\n",
       "      <td>2</td>\n",
       "      <td>5.0</td>\n",
       "      <td>10.0</td>\n",
       "      <td>4</td>\n",
       "      <td>3</td>\n",
       "      <td>27</td>\n",
       "      <td>04</td>\n",
       "      <td>0</td>\n",
       "      <td>4</td>\n",
       "    </tr>\n",
       "    <tr>\n",
       "      <th>4</th>\n",
       "      <td>1</td>\n",
       "      <td>2</td>\n",
       "      <td>2.0</td>\n",
       "      <td>4.0</td>\n",
       "      <td>2</td>\n",
       "      <td>1</td>\n",
       "      <td>11</td>\n",
       "      <td>06</td>\n",
       "      <td>6</td>\n",
       "      <td>3</td>\n",
       "    </tr>\n",
       "  </tbody>\n",
       "</table>\n",
       "</div>"
      ],
      "text/plain": [
       "   Item  Quantity  Price Per Unit  Total Spent  Payment Method  Location Date  \\\n",
       "0     1         2             2.0          4.0               1         2   08   \n",
       "1     0         4             3.0         12.0               0         1   16   \n",
       "2     2         4             1.0          4.0               1         1   19   \n",
       "3     4         2             5.0         10.0               4         3   27   \n",
       "4     1         2             2.0          4.0               2         1   11   \n",
       "\n",
       "  Month  Month_name  day_name  \n",
       "0    09          11         0  \n",
       "1    05           8         5  \n",
       "2    07           5         6  \n",
       "3    04           0         4  \n",
       "4    06           6         3  "
      ]
     },
     "execution_count": 206,
     "metadata": {},
     "output_type": "execute_result"
    }
   ],
   "source": [
    "df.head()"
   ]
  },
  {
   "cell_type": "code",
   "execution_count": 207,
   "metadata": {},
   "outputs": [
    {
     "data": {
      "text/plain": [
       "<seaborn.axisgrid.PairGrid at 0x1f2685fa870>"
      ]
     },
     "execution_count": 207,
     "metadata": {},
     "output_type": "execute_result"
    },
    {
     "data": {
      "image/png": "[encoded data removed]",
      "text/plain": [
       "<Figure size 2000x2000 with 72 Axes>"
      ]
     },
     "metadata": {},
     "output_type": "display_data"
    }
   ],
   "source": [
    "sns.pairplot(df)"
   ]
  },
  {
   "cell_type": "code",
   "execution_count": null,
   "metadata": {},
   "outputs": [],
   "source": [
    "# Define X (features) and y (target)\n",
    "X = df.drop('Item', axis=1)  # All columns except 'Item'\n",
    "y = df['Item']  # Just the 'Item' column"
   ]
  },
  {
   "cell_type": "code",
   "execution_count": 212,
   "metadata": {},
   "outputs": [
    {
     "data": {
      "text/html": [
       "<div>\n",
       "<style scoped>\n",
       "    .dataframe tbody tr th:only-of-type {\n",
       "        vertical-align: middle;\n",
       "    }\n",
       "\n",
       "    .dataframe tbody tr th {\n",
       "        vertical-align: top;\n",
       "    }\n",
       "\n",
       "    .dataframe thead th {\n",
       "        text-align: right;\n",
       "    }\n",
       "</style>\n",
       "<table border=\"1\" class=\"dataframe\">\n",
       "  <thead>\n",
       "    <tr style=\"text-align: right;\">\n",
       "      <th></th>\n",
       "      <th>Quantity</th>\n",
       "      <th>Price Per Unit</th>\n",
       "      <th>Total Spent</th>\n",
       "      <th>Payment Method</th>\n",
       "      <th>Location</th>\n",
       "      <th>Date</th>\n",
       "      <th>Month</th>\n",
       "      <th>Month_name</th>\n",
       "      <th>day_name</th>\n",
       "    </tr>\n",
       "  </thead>\n",
       "  <tbody>\n",
       "    <tr>\n",
       "      <th>0</th>\n",
       "      <td>2</td>\n",
       "      <td>2.0000</td>\n",
       "      <td>4.0000</td>\n",
       "      <td>1</td>\n",
       "      <td>2</td>\n",
       "      <td>08</td>\n",
       "      <td>09</td>\n",
       "      <td>11</td>\n",
       "      <td>0</td>\n",
       "    </tr>\n",
       "    <tr>\n",
       "      <th>1</th>\n",
       "      <td>4</td>\n",
       "      <td>3.0000</td>\n",
       "      <td>12.0000</td>\n",
       "      <td>0</td>\n",
       "      <td>1</td>\n",
       "      <td>16</td>\n",
       "      <td>05</td>\n",
       "      <td>8</td>\n",
       "      <td>5</td>\n",
       "    </tr>\n",
       "    <tr>\n",
       "      <th>2</th>\n",
       "      <td>4</td>\n",
       "      <td>1.0000</td>\n",
       "      <td>4.0000</td>\n",
       "      <td>1</td>\n",
       "      <td>1</td>\n",
       "      <td>19</td>\n",
       "      <td>07</td>\n",
       "      <td>5</td>\n",
       "      <td>6</td>\n",
       "    </tr>\n",
       "    <tr>\n",
       "      <th>3</th>\n",
       "      <td>2</td>\n",
       "      <td>5.0000</td>\n",
       "      <td>10.0000</td>\n",
       "      <td>4</td>\n",
       "      <td>3</td>\n",
       "      <td>27</td>\n",
       "      <td>04</td>\n",
       "      <td>0</td>\n",
       "      <td>4</td>\n",
       "    </tr>\n",
       "    <tr>\n",
       "      <th>4</th>\n",
       "      <td>2</td>\n",
       "      <td>2.0000</td>\n",
       "      <td>4.0000</td>\n",
       "      <td>2</td>\n",
       "      <td>1</td>\n",
       "      <td>11</td>\n",
       "      <td>06</td>\n",
       "      <td>6</td>\n",
       "      <td>3</td>\n",
       "    </tr>\n",
       "    <tr>\n",
       "      <th>...</th>\n",
       "      <td>...</td>\n",
       "      <td>...</td>\n",
       "      <td>...</td>\n",
       "      <td>...</td>\n",
       "      <td>...</td>\n",
       "      <td>...</td>\n",
       "      <td>...</td>\n",
       "      <td>...</td>\n",
       "      <td>...</td>\n",
       "    </tr>\n",
       "    <tr>\n",
       "      <th>9993</th>\n",
       "      <td>2</td>\n",
       "      <td>4.0000</td>\n",
       "      <td>8.0000</td>\n",
       "      <td>0</td>\n",
       "      <td>3</td>\n",
       "      <td>20</td>\n",
       "      <td>10</td>\n",
       "      <td>10</td>\n",
       "      <td>0</td>\n",
       "    </tr>\n",
       "    <tr>\n",
       "      <th>9995</th>\n",
       "      <td>2</td>\n",
       "      <td>2.0000</td>\n",
       "      <td>4.0000</td>\n",
       "      <td>4</td>\n",
       "      <td>3</td>\n",
       "      <td>30</td>\n",
       "      <td>08</td>\n",
       "      <td>1</td>\n",
       "      <td>6</td>\n",
       "    </tr>\n",
       "    <tr>\n",
       "      <th>9997</th>\n",
       "      <td>4</td>\n",
       "      <td>2.0000</td>\n",
       "      <td>8.0000</td>\n",
       "      <td>2</td>\n",
       "      <td>3</td>\n",
       "      <td>02</td>\n",
       "      <td>03</td>\n",
       "      <td>7</td>\n",
       "      <td>4</td>\n",
       "    </tr>\n",
       "    <tr>\n",
       "      <th>9998</th>\n",
       "      <td>3</td>\n",
       "      <td>3.0271</td>\n",
       "      <td>9.0813</td>\n",
       "      <td>2</td>\n",
       "      <td>3</td>\n",
       "      <td>02</td>\n",
       "      <td>12</td>\n",
       "      <td>2</td>\n",
       "      <td>2</td>\n",
       "    </tr>\n",
       "    <tr>\n",
       "      <th>9999</th>\n",
       "      <td>3</td>\n",
       "      <td>4.0000</td>\n",
       "      <td>12.0000</td>\n",
       "      <td>0</td>\n",
       "      <td>1</td>\n",
       "      <td>07</td>\n",
       "      <td>11</td>\n",
       "      <td>9</td>\n",
       "      <td>5</td>\n",
       "    </tr>\n",
       "  </tbody>\n",
       "</table>\n",
       "<p>8613 rows × 9 columns</p>\n",
       "</div>"
      ],
      "text/plain": [
       "      Quantity  Price Per Unit  Total Spent  Payment Method  Location Date  \\\n",
       "0            2          2.0000       4.0000               1         2   08   \n",
       "1            4          3.0000      12.0000               0         1   16   \n",
       "2            4          1.0000       4.0000               1         1   19   \n",
       "3            2          5.0000      10.0000               4         3   27   \n",
       "4            2          2.0000       4.0000               2         1   11   \n",
       "...        ...             ...          ...             ...       ...  ...   \n",
       "9993         2          4.0000       8.0000               0         3   20   \n",
       "9995         2          2.0000       4.0000               4         3   30   \n",
       "9997         4          2.0000       8.0000               2         3   02   \n",
       "9998         3          3.0271       9.0813               2         3   02   \n",
       "9999         3          4.0000      12.0000               0         1   07   \n",
       "\n",
       "     Month  Month_name  day_name  \n",
       "0       09          11         0  \n",
       "1       05           8         5  \n",
       "2       07           5         6  \n",
       "3       04           0         4  \n",
       "4       06           6         3  \n",
       "...    ...         ...       ...  \n",
       "9993    10          10         0  \n",
       "9995    08           1         6  \n",
       "9997    03           7         4  \n",
       "9998    12           2         2  \n",
       "9999    11           9         5  \n",
       "\n",
       "[8613 rows x 9 columns]"
      ]
     },
     "execution_count": 212,
     "metadata": {},
     "output_type": "execute_result"
    }
   ],
   "source": [
    "X"
   ]
  },
  {
   "cell_type": "code",
   "execution_count": 213,
   "metadata": {},
   "outputs": [
    {
     "data": {
      "text/plain": [
       "0       1\n",
       "1       0\n",
       "2       2\n",
       "3       4\n",
       "4       1\n",
       "       ..\n",
       "9993    6\n",
       "9995    1\n",
       "9997    1\n",
       "9998    2\n",
       "9999    5\n",
       "Name: Item, Length: 8613, dtype: int64"
      ]
     },
     "execution_count": 213,
     "metadata": {},
     "output_type": "execute_result"
    }
   ],
   "source": [
    "y"
   ]
  },
  {
   "cell_type": "code",
   "execution_count": 215,
   "metadata": {},
   "outputs": [
    {
     "data": {
      "text/plain": [
       "(8613, 9)"
      ]
     },
     "execution_count": 215,
     "metadata": {},
     "output_type": "execute_result"
    }
   ],
   "source": [
    "X.shape"
   ]
  },
  {
   "cell_type": "code",
   "execution_count": 216,
   "metadata": {},
   "outputs": [
    {
     "data": {
      "text/plain": [
       "(8613,)"
      ]
     },
     "execution_count": 216,
     "metadata": {},
     "output_type": "execute_result"
    }
   ],
   "source": [
    "y.shape"
   ]
  },
  {
   "cell_type": "code",
   "execution_count": 217,
   "metadata": {},
   "outputs": [],
   "source": [
    "from sklearn.model_selection import train_test_split\n",
    "X_train,X_test,y_train,y_test= train_test_split(X,y,test_size=0.33, random_state=42)"
   ]
  },
  {
   "cell_type": "code",
   "execution_count": 219,
   "metadata": {},
   "outputs": [
    {
     "data": {
      "text/plain": [
       "(5770, 9)"
      ]
     },
     "execution_count": 219,
     "metadata": {},
     "output_type": "execute_result"
    }
   ],
   "source": [
    "X_train.shape"
   ]
  },
  {
   "cell_type": "code",
   "execution_count": 220,
   "metadata": {},
   "outputs": [
    {
     "data": {
      "text/plain": [
       "(2843, 9)"
      ]
     },
     "execution_count": 220,
     "metadata": {},
     "output_type": "execute_result"
    }
   ],
   "source": [
    "X_test.shape"
   ]
  },
  {
   "cell_type": "code",
   "execution_count": 221,
   "metadata": {},
   "outputs": [
    {
     "data": {
      "text/plain": [
       "(5770,)"
      ]
     },
     "execution_count": 221,
     "metadata": {},
     "output_type": "execute_result"
    }
   ],
   "source": [
    "y_train.shape"
   ]
  },
  {
   "cell_type": "code",
   "execution_count": 222,
   "metadata": {},
   "outputs": [
    {
     "data": {
      "text/plain": [
       "(2843,)"
      ]
     },
     "execution_count": 222,
     "metadata": {},
     "output_type": "execute_result"
    }
   ],
   "source": [
    "y_test.shape"
   ]
  },
  {
   "cell_type": "code",
   "execution_count": 223,
   "metadata": {},
   "outputs": [],
   "source": [
    "from sklearn.preprocessing import StandardScaler\n",
    "sc=StandardScaler()\n",
    "X_train = sc.fit_transform(X_train)\n",
    "X_test = sc.transform(X_test)"
   ]
  },
  {
   "cell_type": "code",
   "execution_count": 224,
   "metadata": {},
   "outputs": [
    {
     "data": {
      "text/plain": [
       "array([[ 1.42509367,  0.03213799,  1.03993773, ..., -1.60285631,\n",
       "        -0.44674358, -1.48742093],\n",
       "       [-0.73917826, -0.77229561, -0.84907686, ..., -1.02226804,\n",
       "         0.42420263,  0.01230276],\n",
       "       [ 0.70366969,  0.83657159,  1.21166633, ..., -1.60285631,\n",
       "        -0.44674358, -0.48760514],\n",
       "       ...,\n",
       "       [-0.01775428, -1.57672921, -1.02080546, ..., -0.44167976,\n",
       "         0.71451803,  0.51221066],\n",
       "       [ 0.70366969, -1.57672921, -0.84907686, ...,  0.42920265,\n",
       "        -1.3176898 , -0.98751303],\n",
       "       [-0.73917826,  0.83657159, -0.16216247, ..., -1.60285631,\n",
       "        -0.44674358,  0.01230276]], shape=(5770, 9))"
      ]
     },
     "execution_count": 224,
     "metadata": {},
     "output_type": "execute_result"
    }
   ],
   "source": [
    "X_train"
   ]
  },
  {
   "cell_type": "code",
   "execution_count": 225,
   "metadata": {},
   "outputs": [
    {
     "data": {
      "text/plain": [
       "array([[-0.01775428,  0.83657159,  0.52475193, ...,  1.00979092,\n",
       "         1.29514884, -1.48742093],\n",
       "       [-0.01775428, -0.77229561, -0.50561966, ...,  0.13890851,\n",
       "        -0.15642818, -0.48760514],\n",
       "       [-0.01775428, -0.77229561, -0.50561966, ..., -0.44167976,\n",
       "         0.71451803,  1.01211855],\n",
       "       ...,\n",
       "       [ 1.42509367, -0.77229561,  0.18129473, ..., -1.31256218,\n",
       "        -0.73705899,  0.51221066],\n",
       "       [-0.01775428,  0.03213799,  0.00956613, ..., -1.02226804,\n",
       "         0.42420263, -1.48742093],\n",
       "       [ 0.70366969,  0.83657159,  1.21166633, ...,  0.13890851,\n",
       "        -0.15642818, -0.48760514]], shape=(2843, 9))"
      ]
     },
     "execution_count": 225,
     "metadata": {},
     "output_type": "execute_result"
    }
   ],
   "source": [
    "X_test"
   ]
  },
  {
   "cell_type": "code",
   "execution_count": 226,
   "metadata": {},
   "outputs": [
    {
     "data": {
      "text/html": [
       "<div>\n",
       "<style scoped>\n",
       "    .dataframe tbody tr th:only-of-type {\n",
       "        vertical-align: middle;\n",
       "    }\n",
       "\n",
       "    .dataframe tbody tr th {\n",
       "        vertical-align: top;\n",
       "    }\n",
       "\n",
       "    .dataframe thead th {\n",
       "        text-align: right;\n",
       "    }\n",
       "</style>\n",
       "<table border=\"1\" class=\"dataframe\">\n",
       "  <thead>\n",
       "    <tr style=\"text-align: right;\">\n",
       "      <th></th>\n",
       "      <th>0</th>\n",
       "      <th>1</th>\n",
       "      <th>2</th>\n",
       "      <th>3</th>\n",
       "      <th>4</th>\n",
       "      <th>5</th>\n",
       "      <th>6</th>\n",
       "      <th>7</th>\n",
       "      <th>8</th>\n",
       "    </tr>\n",
       "  </thead>\n",
       "  <tbody>\n",
       "    <tr>\n",
       "      <th>0</th>\n",
       "      <td>1.425094</td>\n",
       "      <td>0.032138</td>\n",
       "      <td>1.039938</td>\n",
       "      <td>1.375591</td>\n",
       "      <td>0.005968</td>\n",
       "      <td>1.281850</td>\n",
       "      <td>-1.602856</td>\n",
       "      <td>-0.446744</td>\n",
       "      <td>-1.487421</td>\n",
       "    </tr>\n",
       "    <tr>\n",
       "      <th>1</th>\n",
       "      <td>-0.739178</td>\n",
       "      <td>-0.772296</td>\n",
       "      <td>-0.849077</td>\n",
       "      <td>1.375591</td>\n",
       "      <td>-1.104771</td>\n",
       "      <td>0.371987</td>\n",
       "      <td>-1.022268</td>\n",
       "      <td>0.424203</td>\n",
       "      <td>0.012303</td>\n",
       "    </tr>\n",
       "    <tr>\n",
       "      <th>2</th>\n",
       "      <td>0.703670</td>\n",
       "      <td>0.836572</td>\n",
       "      <td>1.211666</td>\n",
       "      <td>-0.610354</td>\n",
       "      <td>-1.104771</td>\n",
       "      <td>0.599453</td>\n",
       "      <td>-1.602856</td>\n",
       "      <td>-0.446744</td>\n",
       "      <td>-0.487605</td>\n",
       "    </tr>\n",
       "    <tr>\n",
       "      <th>3</th>\n",
       "      <td>-0.017754</td>\n",
       "      <td>1.641005</td>\n",
       "      <td>1.039938</td>\n",
       "      <td>-0.610354</td>\n",
       "      <td>1.116706</td>\n",
       "      <td>-1.561471</td>\n",
       "      <td>-0.731974</td>\n",
       "      <td>-1.608005</td>\n",
       "      <td>0.012303</td>\n",
       "    </tr>\n",
       "    <tr>\n",
       "      <th>4</th>\n",
       "      <td>-0.739178</td>\n",
       "      <td>1.641005</td>\n",
       "      <td>0.181295</td>\n",
       "      <td>-0.610354</td>\n",
       "      <td>1.116706</td>\n",
       "      <td>-0.310410</td>\n",
       "      <td>-1.022268</td>\n",
       "      <td>0.424203</td>\n",
       "      <td>-0.987513</td>\n",
       "    </tr>\n",
       "    <tr>\n",
       "      <th>...</th>\n",
       "      <td>...</td>\n",
       "      <td>...</td>\n",
       "      <td>...</td>\n",
       "      <td>...</td>\n",
       "      <td>...</td>\n",
       "      <td>...</td>\n",
       "      <td>...</td>\n",
       "      <td>...</td>\n",
       "      <td>...</td>\n",
       "    </tr>\n",
       "    <tr>\n",
       "      <th>5765</th>\n",
       "      <td>1.425094</td>\n",
       "      <td>-0.772296</td>\n",
       "      <td>0.181295</td>\n",
       "      <td>-0.610354</td>\n",
       "      <td>1.116706</td>\n",
       "      <td>-0.082944</td>\n",
       "      <td>-1.022268</td>\n",
       "      <td>0.424203</td>\n",
       "      <td>1.512026</td>\n",
       "    </tr>\n",
       "    <tr>\n",
       "      <th>5766</th>\n",
       "      <td>-0.017754</td>\n",
       "      <td>-1.576729</td>\n",
       "      <td>-1.020805</td>\n",
       "      <td>1.375591</td>\n",
       "      <td>0.005968</td>\n",
       "      <td>-0.765341</td>\n",
       "      <td>-0.441680</td>\n",
       "      <td>0.714518</td>\n",
       "      <td>1.012119</td>\n",
       "    </tr>\n",
       "    <tr>\n",
       "      <th>5767</th>\n",
       "      <td>-0.017754</td>\n",
       "      <td>-1.576729</td>\n",
       "      <td>-1.020805</td>\n",
       "      <td>-0.610354</td>\n",
       "      <td>1.116706</td>\n",
       "      <td>1.054384</td>\n",
       "      <td>-0.441680</td>\n",
       "      <td>0.714518</td>\n",
       "      <td>0.512211</td>\n",
       "    </tr>\n",
       "    <tr>\n",
       "      <th>5768</th>\n",
       "      <td>0.703670</td>\n",
       "      <td>-1.576729</td>\n",
       "      <td>-0.849077</td>\n",
       "      <td>-1.272336</td>\n",
       "      <td>1.116706</td>\n",
       "      <td>-0.992807</td>\n",
       "      <td>0.429203</td>\n",
       "      <td>-1.317690</td>\n",
       "      <td>-0.987513</td>\n",
       "    </tr>\n",
       "    <tr>\n",
       "      <th>5769</th>\n",
       "      <td>-0.739178</td>\n",
       "      <td>0.836572</td>\n",
       "      <td>-0.162162</td>\n",
       "      <td>-0.610354</td>\n",
       "      <td>1.116706</td>\n",
       "      <td>-0.879074</td>\n",
       "      <td>-1.602856</td>\n",
       "      <td>-0.446744</td>\n",
       "      <td>0.012303</td>\n",
       "    </tr>\n",
       "  </tbody>\n",
       "</table>\n",
       "<p>5770 rows × 9 columns</p>\n",
       "</div>"
      ],
      "text/plain": [
       "             0         1         2         3         4         5         6  \\\n",
       "0     1.425094  0.032138  1.039938  1.375591  0.005968  1.281850 -1.602856   \n",
       "1    -0.739178 -0.772296 -0.849077  1.375591 -1.104771  0.371987 -1.022268   \n",
       "2     0.703670  0.836572  1.211666 -0.610354 -1.104771  0.599453 -1.602856   \n",
       "3    -0.017754  1.641005  1.039938 -0.610354  1.116706 -1.561471 -0.731974   \n",
       "4    -0.739178  1.641005  0.181295 -0.610354  1.116706 -0.310410 -1.022268   \n",
       "...        ...       ...       ...       ...       ...       ...       ...   \n",
       "5765  1.425094 -0.772296  0.181295 -0.610354  1.116706 -0.082944 -1.022268   \n",
       "5766 -0.017754 -1.576729 -1.020805  1.375591  0.005968 -0.765341 -0.441680   \n",
       "5767 -0.017754 -1.576729 -1.020805 -0.610354  1.116706  1.054384 -0.441680   \n",
       "5768  0.703670 -1.576729 -0.849077 -1.272336  1.116706 -0.992807  0.429203   \n",
       "5769 -0.739178  0.836572 -0.162162 -0.610354  1.116706 -0.879074 -1.602856   \n",
       "\n",
       "             7         8  \n",
       "0    -0.446744 -1.487421  \n",
       "1     0.424203  0.012303  \n",
       "2    -0.446744 -0.487605  \n",
       "3    -1.608005  0.012303  \n",
       "4     0.424203 -0.987513  \n",
       "...        ...       ...  \n",
       "5765  0.424203  1.512026  \n",
       "5766  0.714518  1.012119  \n",
       "5767  0.714518  0.512211  \n",
       "5768 -1.317690 -0.987513  \n",
       "5769 -0.446744  0.012303  \n",
       "\n",
       "[5770 rows x 9 columns]"
      ]
     },
     "execution_count": 226,
     "metadata": {},
     "output_type": "execute_result"
    }
   ],
   "source": [
    "X_train = pd.DataFrame(X_train)\n",
    "X_train"
   ]
  },
  {
   "cell_type": "code",
   "execution_count": 227,
   "metadata": {},
   "outputs": [
    {
     "data": {
      "text/html": [
       "<div>\n",
       "<style scoped>\n",
       "    .dataframe tbody tr th:only-of-type {\n",
       "        vertical-align: middle;\n",
       "    }\n",
       "\n",
       "    .dataframe tbody tr th {\n",
       "        vertical-align: top;\n",
       "    }\n",
       "\n",
       "    .dataframe thead th {\n",
       "        text-align: right;\n",
       "    }\n",
       "</style>\n",
       "<table border=\"1\" class=\"dataframe\">\n",
       "  <thead>\n",
       "    <tr style=\"text-align: right;\">\n",
       "      <th></th>\n",
       "      <th>0</th>\n",
       "      <th>1</th>\n",
       "      <th>2</th>\n",
       "      <th>3</th>\n",
       "      <th>4</th>\n",
       "      <th>5</th>\n",
       "      <th>6</th>\n",
       "      <th>7</th>\n",
       "      <th>8</th>\n",
       "    </tr>\n",
       "  </thead>\n",
       "  <tbody>\n",
       "    <tr>\n",
       "      <th>0</th>\n",
       "      <td>-0.017754</td>\n",
       "      <td>0.836572</td>\n",
       "      <td>0.524752</td>\n",
       "      <td>-0.610354</td>\n",
       "      <td>-1.104771</td>\n",
       "      <td>-1.106540</td>\n",
       "      <td>1.009791</td>\n",
       "      <td>1.295149</td>\n",
       "      <td>-1.487421</td>\n",
       "    </tr>\n",
       "    <tr>\n",
       "      <th>1</th>\n",
       "      <td>-0.017754</td>\n",
       "      <td>-0.772296</td>\n",
       "      <td>-0.505620</td>\n",
       "      <td>-0.610354</td>\n",
       "      <td>1.116706</td>\n",
       "      <td>0.713186</td>\n",
       "      <td>0.138909</td>\n",
       "      <td>-0.156428</td>\n",
       "      <td>-0.487605</td>\n",
       "    </tr>\n",
       "    <tr>\n",
       "      <th>2</th>\n",
       "      <td>-0.017754</td>\n",
       "      <td>-0.772296</td>\n",
       "      <td>-0.505620</td>\n",
       "      <td>-0.610354</td>\n",
       "      <td>0.005968</td>\n",
       "      <td>0.030789</td>\n",
       "      <td>-0.441680</td>\n",
       "      <td>0.714518</td>\n",
       "      <td>1.012119</td>\n",
       "    </tr>\n",
       "    <tr>\n",
       "      <th>3</th>\n",
       "      <td>0.703670</td>\n",
       "      <td>0.032138</td>\n",
       "      <td>0.524752</td>\n",
       "      <td>1.375591</td>\n",
       "      <td>0.005968</td>\n",
       "      <td>-0.310410</td>\n",
       "      <td>-0.731974</td>\n",
       "      <td>-1.608005</td>\n",
       "      <td>0.512211</td>\n",
       "    </tr>\n",
       "    <tr>\n",
       "      <th>4</th>\n",
       "      <td>1.425094</td>\n",
       "      <td>-1.576729</td>\n",
       "      <td>-0.677348</td>\n",
       "      <td>1.375591</td>\n",
       "      <td>-1.104771</td>\n",
       "      <td>0.144522</td>\n",
       "      <td>0.429203</td>\n",
       "      <td>-1.317690</td>\n",
       "      <td>0.512211</td>\n",
       "    </tr>\n",
       "    <tr>\n",
       "      <th>...</th>\n",
       "      <td>...</td>\n",
       "      <td>...</td>\n",
       "      <td>...</td>\n",
       "      <td>...</td>\n",
       "      <td>...</td>\n",
       "      <td>...</td>\n",
       "      <td>...</td>\n",
       "      <td>...</td>\n",
       "      <td>...</td>\n",
       "    </tr>\n",
       "    <tr>\n",
       "      <th>2838</th>\n",
       "      <td>-1.460602</td>\n",
       "      <td>0.032138</td>\n",
       "      <td>-1.020805</td>\n",
       "      <td>0.051628</td>\n",
       "      <td>-1.104771</td>\n",
       "      <td>0.826918</td>\n",
       "      <td>1.300085</td>\n",
       "      <td>1.004833</td>\n",
       "      <td>0.512211</td>\n",
       "    </tr>\n",
       "    <tr>\n",
       "      <th>2839</th>\n",
       "      <td>-0.017754</td>\n",
       "      <td>0.032138</td>\n",
       "      <td>0.009566</td>\n",
       "      <td>1.375591</td>\n",
       "      <td>1.116706</td>\n",
       "      <td>1.168117</td>\n",
       "      <td>-0.731974</td>\n",
       "      <td>-1.608005</td>\n",
       "      <td>1.512026</td>\n",
       "    </tr>\n",
       "    <tr>\n",
       "      <th>2840</th>\n",
       "      <td>1.425094</td>\n",
       "      <td>-0.772296</td>\n",
       "      <td>0.181295</td>\n",
       "      <td>1.375591</td>\n",
       "      <td>0.005968</td>\n",
       "      <td>-0.765341</td>\n",
       "      <td>-1.312562</td>\n",
       "      <td>-0.737059</td>\n",
       "      <td>0.512211</td>\n",
       "    </tr>\n",
       "    <tr>\n",
       "      <th>2841</th>\n",
       "      <td>-0.017754</td>\n",
       "      <td>0.032138</td>\n",
       "      <td>0.009566</td>\n",
       "      <td>-0.610354</td>\n",
       "      <td>-1.104771</td>\n",
       "      <td>-1.447738</td>\n",
       "      <td>-1.022268</td>\n",
       "      <td>0.424203</td>\n",
       "      <td>-1.487421</td>\n",
       "    </tr>\n",
       "    <tr>\n",
       "      <th>2842</th>\n",
       "      <td>0.703670</td>\n",
       "      <td>0.836572</td>\n",
       "      <td>1.211666</td>\n",
       "      <td>-0.610354</td>\n",
       "      <td>-1.104771</td>\n",
       "      <td>-0.082944</td>\n",
       "      <td>0.138909</td>\n",
       "      <td>-0.156428</td>\n",
       "      <td>-0.487605</td>\n",
       "    </tr>\n",
       "  </tbody>\n",
       "</table>\n",
       "<p>2843 rows × 9 columns</p>\n",
       "</div>"
      ],
      "text/plain": [
       "             0         1         2         3         4         5         6  \\\n",
       "0    -0.017754  0.836572  0.524752 -0.610354 -1.104771 -1.106540  1.009791   \n",
       "1    -0.017754 -0.772296 -0.505620 -0.610354  1.116706  0.713186  0.138909   \n",
       "2    -0.017754 -0.772296 -0.505620 -0.610354  0.005968  0.030789 -0.441680   \n",
       "3     0.703670  0.032138  0.524752  1.375591  0.005968 -0.310410 -0.731974   \n",
       "4     1.425094 -1.576729 -0.677348  1.375591 -1.104771  0.144522  0.429203   \n",
       "...        ...       ...       ...       ...       ...       ...       ...   \n",
       "2838 -1.460602  0.032138 -1.020805  0.051628 -1.104771  0.826918  1.300085   \n",
       "2839 -0.017754  0.032138  0.009566  1.375591  1.116706  1.168117 -0.731974   \n",
       "2840  1.425094 -0.772296  0.181295  1.375591  0.005968 -0.765341 -1.312562   \n",
       "2841 -0.017754  0.032138  0.009566 -0.610354 -1.104771 -1.447738 -1.022268   \n",
       "2842  0.703670  0.836572  1.211666 -0.610354 -1.104771 -0.082944  0.138909   \n",
       "\n",
       "             7         8  \n",
       "0     1.295149 -1.487421  \n",
       "1    -0.156428 -0.487605  \n",
       "2     0.714518  1.012119  \n",
       "3    -1.608005  0.512211  \n",
       "4    -1.317690  0.512211  \n",
       "...        ...       ...  \n",
       "2838  1.004833  0.512211  \n",
       "2839 -1.608005  1.512026  \n",
       "2840 -0.737059  0.512211  \n",
       "2841  0.424203 -1.487421  \n",
       "2842 -0.156428 -0.487605  \n",
       "\n",
       "[2843 rows x 9 columns]"
      ]
     },
     "execution_count": 227,
     "metadata": {},
     "output_type": "execute_result"
    }
   ],
   "source": [
    "X_test = pd.DataFrame(X_test)\n",
    "X_test"
   ]
  },
  {
   "cell_type": "code",
   "execution_count": null,
   "metadata": {},
   "outputs": [],
   "source": []
  }
 ],
 "metadata": {
  "kernelspec": {
   "display_name": "_env",
   "language": "python",
   "name": "python3"
  },
  "language_info": {
   "codemirror_mode": {
    "name": "ipython",
    "version": 3
   },
   "file_extension": ".py",
   "mimetype": "text/x-python",
   "name": "python",
   "nbconvert_exporter": "python",
   "pygments_lexer": "ipython3",
   "version": "3.12.8"
  }
 },
 "nbformat": 4,
 "nbformat_minor": 2
}
